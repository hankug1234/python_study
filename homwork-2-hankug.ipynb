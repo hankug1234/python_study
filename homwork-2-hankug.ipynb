{
 "cells": [
  {
   "cell_type": "code",
   "execution_count": 1,
   "metadata": {},
   "outputs": [
    {
     "name": "stdout",
     "output_type": "stream",
     "text": [
      "> 1번째 숫자: 100\n",
      "> 2번째 숫자: 200\n",
      "\n",
      "100 + 200 = 300\n"
     ]
    }
   ],
   "source": [
    "#problem-1\n",
    "a = input(\"> 1번째 숫자: \")\n",
    "b = input(\"> 2번째 숫자: \")\n",
    "print()\n",
    "\n",
    "print(\"{} + {} = {}\".format(a,b,int(a)+int(b)))"
   ]
  },
  {
   "cell_type": "code",
   "execution_count": 4,
   "metadata": {},
   "outputs": [
    {
     "name": "stdout",
     "output_type": "stream",
     "text": [
      "A 지점:  hello\n",
      "B 지점:  HELLO\n"
     ]
    }
   ],
   "source": [
    "#problem-2 \n",
    "#1. A 지점: hello\n",
    "#2. B 지점: HELLO\n",
    "string = \"hello\"\n",
    "string.upper()\n",
    "print(\"A 지점: \",string)\n",
    "print(\"B 지점: \",string.upper())\n"
   ]
  },
  {
   "cell_type": "code",
   "execution_count": 8,
   "metadata": {},
   "outputs": [
    {
     "name": "stdout",
     "output_type": "stream",
     "text": [
      "구의 반지름을 입력해 주세요: 5\n",
      "구의 부피는 523.5987755982989입니다.\n",
      "구의 겉넓이는 314.1592653589793입니다.\n"
     ]
    }
   ],
   "source": [
    "#problem-3\n",
    "import math\n",
    "inString = input(\"구의 반지름을 입력해 주세요: \")\n",
    "radious = float(inString)\n",
    "volum = (4.0/3.0)*(radious**3)*math.pi\n",
    "surfaceArea = 4.0*math.pi*(radious**2)\n",
    "print(f\"구의 부피는 {volum}입니다.\")\n",
    "print(f\"구의 겉넓이는 {surfaceArea}입니다.\")"
   ]
  },
  {
   "cell_type": "code",
   "execution_count": 17,
   "metadata": {},
   "outputs": [
    {
     "name": "stdout",
     "output_type": "stream",
     "text": [
      "밑변의 길이를 입력해주세요: 3.0\n",
      "높이의 길이를 입력해주세요: 4.0\n",
      "= 빗변의 길이는 5.0입니다.\n"
     ]
    }
   ],
   "source": [
    "#problem-4\n",
    "in1 = input(\"밑변의 길이를 입력해주세요: \")\n",
    "in2 = input(\"높이의 길이를 입력해주세요: \")\n",
    "bottom_length = float(in1)\n",
    "height_length = float(in2)\n",
    "hypotinus = math.sqrt((bottom_length**2)+(height_length**2))\n",
    "print(f\"= 빗변의 길이는 {hypotinus}입니다.\")"
   ]
  },
  {
   "cell_type": "code",
   "execution_count": 24,
   "metadata": {},
   "outputs": [
    {
     "name": "stdout",
     "output_type": "stream",
     "text": [
      "3.3166247903554\n",
      "3.3166247903554\n",
      "0.0\n"
     ]
    }
   ],
   "source": [
    "def sqrt(n):\n",
    "    result = n+1\n",
    "    for i in range(0,10):\n",
    "        result = (1.0/2.0)*(result + (n/result))\n",
    "    return result\n",
    "a = sqrt(11)\n",
    "b = math.sqrt(11)\n",
    "print(a)\n",
    "print(b)\n",
    "print((a-b))\n",
    "    "
   ]
  },
  {
   "cell_type": "code",
   "execution_count": 25,
   "metadata": {},
   "outputs": [
    {
     "name": "stdout",
     "output_type": "stream",
     "text": [
      "조건에 맞습니다.\n"
     ]
    }
   ],
   "source": [
    "#problem-5\n",
    "def condition(x):\n",
    "  if(x > 10 and x < 20):\n",
    "     print(\"조건에 맞습니다.\")\n",
    "condition(11)        \n",
    "condition(9)"
   ]
  },
  {
   "cell_type": "code",
   "execution_count": 1,
   "metadata": {},
   "outputs": [
    {
     "name": "stdout",
     "output_type": "stream",
     "text": [
      "태어난 해를 입력해 주세요>2022\n",
      "범 띠입니다.\n",
      "태어난 해를 입력해 주세요>end\n"
     ]
    }
   ],
   "source": [
    "#problem-6\n",
    "list = [\"원숭이\",\"닭\",\"개\",\"돼지\",\"쥐\",\"소\",\"범\",\"토끼\",\"용\",\"뱀\",\"말\",\"양\"]\n",
    "str_input = input(\"태어난 해를 입력해 주세요>\")\n",
    "while(str_input !='end'):\n",
    "  birth_year = int(str_input) % 12\n",
    "  if(list[birth_year]): print(f\"{list[birth_year]} 띠입니다.\") \n",
    "  str_input = input(\"태어난 해를 입력해 주세요>\")"
   ]
  },
  {
   "cell_type": "code",
   "execution_count": 3,
   "metadata": {},
   "outputs": [
    {
     "name": "stdout",
     "output_type": "stream",
     "text": [
      "입력: 안녕\n",
      "안녕하세요.\n",
      "입력: 안녕하세요.\n",
      "안녕하세요.\n",
      "입력: 지금 몇 시야?\n",
      "지금은 15시입니다.\n",
      "입력: 지금 몇 시에요?\n",
      "지금은 15시입니다.\n",
      "입력: 잘지내?\n",
      "잘지내?\n",
      "입력: 둥\n",
      "둥\n",
      "입력: end\n"
     ]
    }
   ],
   "source": [
    "from datetime import datetime\n",
    "#problem-7\n",
    "def greeting(str):\n",
    "    if(str == \"안녕\"): print(\"안녕하세요.\")\n",
    "    elif(str == \"지금 몇 시야?\" or str == \"지금 몇 시에요?\"): print(f\"지금은 {datetime.now().hour}시입니다.\")\n",
    "    else: print(str)\n",
    "question = input(\"입력: \")        \n",
    "while(question != 'end'):\n",
    "    greeting(question)\n",
    "    question = input(\"입력: \")\n",
    "    "
   ]
  },
  {
   "cell_type": "code",
   "execution_count": 2,
   "metadata": {},
   "outputs": [
    {
     "name": "stdout",
     "output_type": "stream",
     "text": [
      "정수를 입력해주세요: 10\n",
      "10은 2로 나누어 떨어지는 숫자입니다.\n",
      "10은 3로 나누어 떨어지는 숫자가 아닙니다.\n",
      "10은 4로 나누어 떨어지는 숫자가 아닙니다.\n",
      "10은 5로 나누어 떨어지는 숫자입니다.\n"
     ]
    }
   ],
   "source": [
    "#problem-8\n",
    "def devideIntenger(n):\n",
    "    List = [2,3,4,5]\n",
    "    for i in range(0,len(List)):\n",
    "        if(n%List[i] == 0): print(f\"{n}은 {List[i]}로 나누어 떨어지는 숫자입니다.\")\n",
    "        else: print(f\"{n}은 {List[i]}로 나누어 떨어지는 숫자가 아닙니다.\")\n",
    "question = input(\"정수를 입력해주세요: \")\n",
    "devideIntenger(int(question))"
   ]
  },
  {
   "cell_type": "code",
   "execution_count": 7,
   "metadata": {},
   "outputs": [
    {
     "name": "stdout",
     "output_type": "stream",
     "text": [
      "100 이상의 수: 273\n",
      "100 이상의 수: 103\n",
      "100 이상의 수: 800\n"
     ]
    }
   ],
   "source": [
    "#problem-9\n",
    "numbers = [273,103,5,32,65,9,72,800,90]\n",
    "for number in numbers:\n",
    "    if(number >= 100):\n",
    "        print(f\"100 이상의 수: {number}\")\n",
    "        "
   ]
  },
  {
   "cell_type": "code",
   "execution_count": 9,
   "metadata": {},
   "outputs": [
    {
     "name": "stdout",
     "output_type": "stream",
     "text": [
      "273 는 홀수입니다.\n",
      "103 는 홀수입니다.\n",
      "5 는 홀수입니다.\n",
      "32 는 짝수입니다.\n",
      "65 는 홀수입니다.\n",
      "9 는 홀수입니다.\n",
      "72 는 짝수입니다.\n",
      "800 는 짝수입니다.\n",
      "99 는 홀수입니다.\n",
      "-----------------------------\n",
      "-----------------------------\n",
      "273 는 3 자릿수입니다.\n",
      "103 는 3 자릿수입니다.\n",
      "5 는 1 자릿수입니다.\n",
      "32 는 2 자릿수입니다.\n",
      "65 는 2 자릿수입니다.\n",
      "9 는 1 자릿수입니다.\n",
      "72 는 2 자릿수입니다.\n",
      "800 는 3 자릿수입니다.\n",
      "99 는 2 자릿수입니다.\n"
     ]
    }
   ],
   "source": [
    "#problem-10\n",
    "numbers = [273,103,5,32,65,9,72,800,99]\n",
    "for i in numbers:\n",
    "    if(i%2 == 0):\n",
    "        print(f\"{i} 는 짝수입니다.\")\n",
    "    else: \n",
    "        print(f\"{i} 는 홀수입니다.\")\n",
    "print(\"-----------------------------\")\n",
    "print(\"-----------------------------\")\n",
    "for i in numbers:\n",
    "    length = len(str(i))\n",
    "    print(f\"{i} 는 {length} 자릿수입니다.\")\n",
    "    \n",
    "        "
   ]
  },
  {
   "cell_type": "code",
   "execution_count": 12,
   "metadata": {},
   "outputs": [
    {
     "name": "stdout",
     "output_type": "stream",
     "text": [
      "[[1, 4, 7], [2, 5, 8], [3, 6, 9]]\n"
     ]
    }
   ],
   "source": [
    "#problem-11\n",
    "numbers = range(1,10)\n",
    "output = [[],[],[]]\n",
    "for number in numbers:\n",
    "    output[(number-1)%3].append(number)\n",
    "print(output)    "
   ]
  },
  {
   "cell_type": "code",
   "execution_count": 16,
   "metadata": {},
   "outputs": [
    {
     "name": "stdout",
     "output_type": "stream",
     "text": [
      "i = 0, j = 1\n",
      "i = 1, j = 3\n",
      "i = 2, j = 5\n",
      "i = 3, j = 7\n",
      "[1, 4, 3, 16, 5, 36, 7, 64, 9]\n"
     ]
    }
   ],
   "source": [
    "#problem-12\n",
    "numbers = [1,2,3,4,5,6,7,8,9]\n",
    "for i in range(0,len(numbers)//2):\n",
    "    j = 2*i+1\n",
    "    print(f\"i = {i}, j = {j}\")\n",
    "    numbers[j] = numbers[j]**2\n",
    "print(numbers)    "
   ]
  },
  {
   "cell_type": "code",
   "execution_count": 1,
   "metadata": {},
   "outputs": [
    {
     "data": {
      "text/plain": [
       "[0, 1, 2, 3, 4, 5, 6, 7, 8, 9]"
      ]
     },
     "execution_count": 1,
     "metadata": {},
     "output_type": "execute_result"
    }
   ],
   "source": [
    "list(range(0,10)) "
   ]
  }
 ],
 "metadata": {
  "kernelspec": {
   "display_name": "Python 3",
   "language": "python",
   "name": "python3"
  },
  "language_info": {
   "codemirror_mode": {
    "name": "ipython",
    "version": 3
   },
   "file_extension": ".py",
   "mimetype": "text/x-python",
   "name": "python",
   "nbconvert_exporter": "python",
   "pygments_lexer": "ipython3",
   "version": "3.7.3"
  }
 },
 "nbformat": 4,
 "nbformat_minor": 2
}
