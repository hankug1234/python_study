{
 "cells": [
  {
   "cell_type": "code",
   "execution_count": 1,
   "metadata": {},
   "outputs": [],
   "source": [
    "import numpy as np\n",
    "import cv2\n",
    "import sys"
   ]
  },
  {
   "cell_type": "code",
   "execution_count": 29,
   "metadata": {},
   "outputs": [
    {
     "name": "stdout",
     "output_type": "stream",
     "text": [
      "1000\n"
     ]
    }
   ],
   "source": [
    "model_name = \"./googlenet-12.onnx\"\n",
    "config_name=\"\"\n",
    "file_name = \"./fig/dog.jpg\"\n",
    "\n",
    "img = cv2.imread(file_name)\n",
    "net = cv2.dnn.readNet(model_name,config_name)\n",
    "\n",
    "if net.empty():\n",
    "    print(\"empty\")\n",
    "    sys.exit()\n",
    "\n",
    "classNames = []\n",
    "with open(\"./class.txt\",\"r\") as f:\n",
    "    classNames = f.read().rstrip(\"\\n\").rsplit('\\n')\n",
    "print(len(classNames))\n",
    "\n",
    "blob = cv2.dnn.blobFromImage(img,1,(224,224),(104,117,123),swapRB=False)\n",
    "\n",
    "net.setInput(blob)\n",
    "prob = net.forward()\n",
    "\n",
    "out = prob.flatten()\n",
    "\n",
    "index = np.argmax(out)\n",
    "\n",
    "\n",
    "confidence = out[index]\n",
    "text = f'{classNames[index]} : ({confidence*100})'\n",
    "\n",
    "img = cv2.resize(img,(800,800))\n",
    "cv2.putText(img,text,(0,50),cv2.FONT_HERSHEY_COMPLEX,1,(0,0,255),1,cv2.LINE_AA)\n",
    "\n",
    "cv2.imshow(\"image\",img)\n",
    "cv2.waitKey()\n",
    "cv2.destroyAllWindows()"
   ]
  },
  {
   "cell_type": "code",
   "execution_count": 32,
   "metadata": {},
   "outputs": [],
   "source": [
    "import glob\n",
    "img_list = glob.glob(\"./fig/*\")\n",
    "for img_name in img_list:\n",
    "    img = cv2.imread(img_name)\n",
    "    blob = cv2.dnn.blobFromImage(img,1,(224,224),(104,117,123),swapRB=False)\n",
    "    net.setInput(blob)\n",
    "    prob = net.forward()\n",
    "\n",
    "    out = prob.flatten()\n",
    "    index = np.argmax(out)\n",
    "\n",
    "    confidence = out[index]\n",
    "    text = f'{classNames[index]} : ({confidence*100})'\n",
    "    img = cv2.resize(img,(800,800))\n",
    "    cv2.putText(img,text,(0,50),cv2.FONT_HERSHEY_COMPLEX,1,(0,0,255),1,cv2.LINE_AA)\n",
    "    cv2.imshow('img',img)\n",
    "    cv2.waitKey()\n",
    "cv2.destroyAllWindows()    \n",
    "    "
   ]
  },
  {
   "cell_type": "code",
   "execution_count": null,
   "metadata": {},
   "outputs": [],
   "source": []
  }
 ],
 "metadata": {
  "kernelspec": {
   "display_name": "Python 3",
   "language": "python",
   "name": "python3"
  },
  "language_info": {
   "codemirror_mode": {
    "name": "ipython",
    "version": 3
   },
   "file_extension": ".py",
   "mimetype": "text/x-python",
   "name": "python",
   "nbconvert_exporter": "python",
   "pygments_lexer": "ipython3",
   "version": "3.7.3"
  }
 },
 "nbformat": 4,
 "nbformat_minor": 2
}
