{
 "cells": [
  {
   "cell_type": "code",
   "execution_count": 1,
   "metadata": {},
   "outputs": [
    {
     "name": "stdout",
     "output_type": "stream",
     "text": [
      "21\n",
      "121\n"
     ]
    }
   ],
   "source": [
    "#problem-1\n",
    "def f(x):\n",
    "    return 2*x+1\n",
    "print(f(10))\n",
    "\n",
    "def g(x):\n",
    "    return x**2+2*x+1\n",
    "print(g(10))\n"
   ]
  },
  {
   "cell_type": "code",
   "execution_count": 13,
   "metadata": {},
   "outputs": [
    {
     "name": "stdout",
     "output_type": "stream",
     "text": [
      "3150\n"
     ]
    }
   ],
   "source": [
    "#problem-2\n",
    "def mul(*values):\n",
    "    result = 1\n",
    "    for x in values:\n",
    "        result*=x\n",
    "    return result    \n",
    "\n",
    "print(mul(5,7,9,10))"
   ]
  },
  {
   "cell_type": "markdown",
   "metadata": {},
   "source": [
    "#problem-3\n",
    "answer = 2"
   ]
  },
  {
   "cell_type": "code",
   "execution_count": 2,
   "metadata": {},
   "outputs": [
    {
     "name": "stdout",
     "output_type": "stream",
     "text": [
      "PI:  250 C:  216\n",
      "test:  250 D:  1246600\n"
     ]
    }
   ],
   "source": [
    "#problem-4\n",
    "least_people = 2\n",
    "maximum_people = 10\n",
    "total_people = 100\n",
    "memo = {}\n",
    "c = 0\n",
    "d = 0\n",
    "\n",
    "def schedule(remain,seated):\n",
    "    key = str([remain,seated])\n",
    "    key2 = str([seated,remain])\n",
    "    if (key in memo):\n",
    "        return memo[key]\n",
    "    if remain < 0:\n",
    "        return 0\n",
    "    if remain == 0:\n",
    "        return 1\n",
    "    \n",
    "    result = 0\n",
    "    for x in range(least_people,remain+1):\n",
    "        result += schedule(remain-x,seated + x)\n",
    "    memo[key] = result    \n",
    "    return result\n",
    "    \n",
    "\n",
    "def check_same_element(s1,s2):\n",
    "    if len(s1) != len(s2):\n",
    "        return False\n",
    "    if len(set(s1) - set(s2)) == 0:\n",
    "        return True\n",
    "    return False\n",
    "\n",
    "def add_in_list(n,d_l,l,path):\n",
    "        for x in d_l:\n",
    "            new_path = path+\" \"+x\n",
    "            check = False\n",
    "            for y in l:\n",
    "                if check_same_element(new_path.split(\" \"),y.split(\" \")):\n",
    "                    check = True\n",
    "                    break\n",
    "            if not check:\n",
    "                l.append(new_path)\n",
    "def devide_integer(n,min_v,max_v,path,l,d):\n",
    "    if n in d:\n",
    "        add_in_list(n,d[n],l,path)\n",
    "        return l        \n",
    "    if n == 0:\n",
    "        l.append(path)\n",
    "        return l\n",
    "    if n < min_v:\n",
    "        return l\n",
    "    \n",
    "    n_l = []\n",
    "    if n < max_v:\n",
    "        max_v = n\n",
    "    for x in range(min_v,max_v+1):\n",
    "        global c\n",
    "        c+=1\n",
    "        devide_integer(n-x,min_v,max_v,str(x),n_l,d)\n",
    "                \n",
    "    d[n] = n_l\n",
    "    add_in_list(n,n_l,l,path)\n",
    "    return l\n",
    "\n",
    "def PI(n,min_v,max_v):\n",
    "    l = []\n",
    "    d= {}\n",
    "    devide_integer(n,min_v,max_v,\"\",l,d)\n",
    "    return l\n",
    "\n",
    "def test(n,path,min_v,max_v,l):\n",
    "    if n == 0:\n",
    "        for x in l:\n",
    "            if check_same_element(path.strip().split(\" \"),x.strip().split(\" \")):\n",
    "                return l\n",
    "        l.append(path)\n",
    "        return l\n",
    "    if n < min_v:\n",
    "        return l\n",
    "    if n < max_v:\n",
    "        max_v = n\n",
    "    for x in range(min_v,max_v+1):\n",
    "        global d\n",
    "        d +=1\n",
    "        test(n-x,path+\" \"+str(x),min_v,max_v,l)\n",
    "    return l    \n",
    "        \n",
    "li = []\n",
    "print(\"PI: \",len(PI(30,2,10)),\"C: \",c)\n",
    "print(\"test: \",len(test(30,\"\",2,10,li)),\"D: \",d)"
   ]
  },
  {
   "cell_type": "code",
   "execution_count": null,
   "metadata": {},
   "outputs": [],
   "source": []
  }
 ],
 "metadata": {
  "kernelspec": {
   "display_name": "Python 3",
   "language": "python",
   "name": "python3"
  },
  "language_info": {
   "codemirror_mode": {
    "name": "ipython",
    "version": 3
   },
   "file_extension": ".py",
   "mimetype": "text/x-python",
   "name": "python",
   "nbconvert_exporter": "python",
   "pygments_lexer": "ipython3",
   "version": "3.7.3"
  }
 },
 "nbformat": 4,
 "nbformat_minor": 2
}
