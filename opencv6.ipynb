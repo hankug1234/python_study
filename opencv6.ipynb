{
 "cells": [
  {
   "cell_type": "code",
   "execution_count": 1,
   "metadata": {},
   "outputs": [],
   "source": [
    "import cv2\n",
    "import numpy as np\n",
    "import sys"
   ]
  },
  {
   "cell_type": "code",
   "execution_count": 2,
   "metadata": {},
   "outputs": [
    {
     "ename": "NameError",
     "evalue": "name 'true' is not defined",
     "output_type": "error",
     "traceback": [
      "\u001b[1;31m---------------------------------------------------------------------------\u001b[0m",
      "\u001b[1;31mNameError\u001b[0m                                 Traceback (most recent call last)",
      "\u001b[1;32m<ipython-input-2-bd25a3a84e50>\u001b[0m in \u001b[0;36m<module>\u001b[1;34m\u001b[0m\n\u001b[0;32m      5\u001b[0m     \u001b[0msys\u001b[0m\u001b[1;33m.\u001b[0m\u001b[0mexit\u001b[0m\u001b[1;33m(\u001b[0m\u001b[1;33m)\u001b[0m\u001b[1;33m\u001b[0m\u001b[1;33m\u001b[0m\u001b[0m\n\u001b[0;32m      6\u001b[0m \u001b[1;33m\u001b[0m\u001b[0m\n\u001b[1;32m----> 7\u001b[1;33m \u001b[1;32mwhile\u001b[0m \u001b[0mtrue\u001b[0m\u001b[1;33m:\u001b[0m\u001b[1;33m\u001b[0m\u001b[1;33m\u001b[0m\u001b[0m\n\u001b[0m\u001b[0;32m      8\u001b[0m     \u001b[0mret\u001b[0m\u001b[1;33m,\u001b[0m\u001b[0mframe\u001b[0m \u001b[1;33m=\u001b[0m \u001b[0mcap\u001b[0m\u001b[1;33m.\u001b[0m\u001b[0mread\u001b[0m\u001b[1;33m(\u001b[0m\u001b[1;33m)\u001b[0m\u001b[1;33m\u001b[0m\u001b[1;33m\u001b[0m\u001b[0m\n\u001b[0;32m      9\u001b[0m     \u001b[0mcv2\u001b[0m\u001b[1;33m.\u001b[0m\u001b[0mimshow\u001b[0m\u001b[1;33m(\u001b[0m\u001b[1;34m'frame'\u001b[0m\u001b[1;33m,\u001b[0m\u001b[0mframe\u001b[0m\u001b[1;33m)\u001b[0m\u001b[1;33m\u001b[0m\u001b[1;33m\u001b[0m\u001b[0m\n",
      "\u001b[1;31mNameError\u001b[0m: name 'true' is not defined"
     ]
    }
   ],
   "source": [
    "cap = cv2.VideoCapture(0)\n",
    "\n",
    "if not cap.isOpened():\n",
    "    print('video open failed')\n",
    "    sys.exit()\n",
    "    \n",
    "while true:\n",
    "    ret,frame = cap.read()\n",
    "    cv2.imshow('frame',frame)\n",
    "    \n",
    "    if not ret:\n",
    "        break;\n",
    "    \n",
    "    if cv2.watiKey(30) == 27:\n",
    "        break\n",
    "\n",
    "cap.release()\n",
    "cv2.destroyAllWindows()\n",
    "    "
   ]
  },
  {
   "cell_type": "code",
   "execution_count": 6,
   "metadata": {},
   "outputs": [],
   "source": [
    "img = np.ones((600,1200,3), np.uint8)*255\n",
    "\n",
    "cv2.rectangle(img,(100,400,200,100),(0,0,250),-1)\n",
    "cv2.putText(img,\"hellow friday!\",(600,500),cv2.FONT_HERSHEY_COMPLEX,1.2,(0,0,255),3,cv2.LINE_AA)\n",
    "\n",
    "cv2.imshow('img',img)\n",
    "\n",
    "cv2.waitKey()\n",
    "cv2.destroyAllWindows()"
   ]
  },
  {
   "cell_type": "code",
   "execution_count": 7,
   "metadata": {},
   "outputs": [
    {
     "ename": "AttributeError",
     "evalue": "module 'cv2.cv2' has no attribute 'cvColor'",
     "output_type": "error",
     "traceback": [
      "\u001b[1;31m---------------------------------------------------------------------------\u001b[0m",
      "\u001b[1;31mAttributeError\u001b[0m                            Traceback (most recent call last)",
      "\u001b[1;32m<ipython-input-7-434037c1ae79>\u001b[0m in \u001b[0;36m<module>\u001b[1;34m\u001b[0m\n\u001b[0;32m      1\u001b[0m \u001b[0msrc\u001b[0m \u001b[1;33m=\u001b[0m \u001b[0mcv2\u001b[0m\u001b[1;33m.\u001b[0m\u001b[0mimread\u001b[0m\u001b[1;33m(\u001b[0m\u001b[1;34m'./fig/cow.png'\u001b[0m\u001b[1;33m)\u001b[0m\u001b[1;33m\u001b[0m\u001b[1;33m\u001b[0m\u001b[0m\n\u001b[0;32m      2\u001b[0m \u001b[0mdst\u001b[0m \u001b[1;33m=\u001b[0m \u001b[0mcv2\u001b[0m\u001b[1;33m.\u001b[0m\u001b[0mimread\u001b[0m\u001b[1;33m(\u001b[0m\u001b[1;34m'./fig/green.png'\u001b[0m\u001b[1;33m)\u001b[0m\u001b[1;33m\u001b[0m\u001b[1;33m\u001b[0m\u001b[0m\n\u001b[1;32m----> 3\u001b[1;33m \u001b[0msrc_gray\u001b[0m \u001b[1;33m=\u001b[0m \u001b[0mcv2\u001b[0m\u001b[1;33m.\u001b[0m\u001b[0mcvColor\u001b[0m\u001b[1;33m(\u001b[0m\u001b[0msrc\u001b[0m\u001b[1;33m,\u001b[0m\u001b[0mcv2\u001b[0m\u001b[1;33m.\u001b[0m\u001b[0mCOLOR_BGR2GRAY\u001b[0m\u001b[1;33m)\u001b[0m\u001b[1;33m\u001b[0m\u001b[1;33m\u001b[0m\u001b[0m\n\u001b[0m",
      "\u001b[1;31mAttributeError\u001b[0m: module 'cv2.cv2' has no attribute 'cvColor'"
     ]
    }
   ],
   "source": [
    "src = cv2.imread('./fig/cow.png')\n",
    "dst = cv2.imread('./fig/green.png')\n",
    "src_gray = cv2.cvColor(src,cv2.COLOR_BGR2GRAY)\n"
   ]
  },
  {
   "cell_type": "code",
   "execution_count": 8,
   "metadata": {},
   "outputs": [],
   "source": [
    "import glob"
   ]
  },
  {
   "cell_type": "code",
   "execution_count": null,
   "metadata": {},
   "outputs": [],
   "source": [
    "img_files = glob.glob('./fig/images/*.*')\n",
    "\n",
    "cv2.nameWindow(\"scene\",cv2.WINDOW_NORMAL)\n",
    "cv2.setWindowProperty('scene',cv2.WND_PROP_FULLSCREEN,cv2.WINDOW_FULLSCREEN)\n",
    "\n",
    "idx = 0\n",
    "\n",
    "while True:\n",
    "    img = cv2.imread()"
   ]
  },
  {
   "cell_type": "code",
   "execution_count": 21,
   "metadata": {},
   "outputs": [],
   "source": [
    "img = cv2.imread('./fig/cat.bmp',0)\n",
    "show_img = img\n",
    "while True:\n",
    "    key = cv2.waitKey()\n",
    "    \n",
    "    if key == 27 or key == ord('q'):\n",
    "        break\n",
    "    \n",
    "    elif key == ord('s'):\n",
    "        cv2.imwrite(\"./fig/cat.png\",img)\n",
    "    \n",
    "    elif key == ord('r'):\n",
    "            show_img = img\n",
    "            cv2.imshow('image',show_image)\n",
    "    \n",
    "    elif key == ord('i'):\n",
    "        img1 = 255 - img\n",
    "        show_img = img1\n",
    "        cv2.imshow('image',show_img)\n",
    "        \n",
    "    elif key == ord('e'):\n",
    "        img2 = cv2.Canny(img,100,150)\n",
    "        show_img = img2\n",
    "        cv2.imshow(\"image\",show_img)\n",
    "    else:\n",
    "        cv2.imshow('image',show_img)\n",
    "\n",
    "cv2.destroyAllWindows()"
   ]
  },
  {
   "cell_type": "code",
   "execution_count": 33,
   "metadata": {},
   "outputs": [],
   "source": [
    "cap = cv2.VideoCapture(0)\n",
    "state = ord('r')\n",
    "while True:\n",
    "    rat, frame = cap.read()\n",
    "    key = cv2.waitKey(30)\n",
    "\n",
    "    if key != -1:\n",
    "        state = key\n",
    "    \n",
    "    if not rat:\n",
    "        break\n",
    "        \n",
    "    if state == 27:\n",
    "        break\n",
    "    \n",
    "    if state == ord('i'):\n",
    "        img = 255 - frame\n",
    "    elif state == ord(\"e\"):\n",
    "        img = cv2.Canny(frame,100,150)\n",
    "        \n",
    "    elif state == ord('r'):\n",
    "        img = frame\n",
    "       \n",
    "        \n",
    "    cv2.imshow('img',img)    \n",
    "    \n",
    "\n",
    "cap.release()\n",
    "cv2.destroyAllWindows()"
   ]
  },
  {
   "cell_type": "code",
   "execution_count": 50,
   "metadata": {},
   "outputs": [],
   "source": [
    "img = np.ones((500,600,3), np.uint8)*255\n",
    "def call_mouse(event,x,y,flags,param):\n",
    "    global a, b\n",
    "    if event == cv2.EVENT_LBUTTONDOWN:\n",
    "            a ,b = x, y\n",
    "            \n",
    "    if event == cv2.EVENT_MOUSEMOVE:\n",
    "        if flags == cv2.EVENT_FLAG_LBUTTON:\n",
    "            cv2.line(img,(a,b),(x,y),(0,0,250),5,cv2.LINE_AA)\n",
    "            cv2.imshow('image',img)\n",
    "            a, b = x,y\n",
    "\n",
    "\n",
    "\n",
    "\n",
    "cv2.namedWindow('image')\n",
    "cv2.setMouseCallback('image',call_mouse, img)\n",
    "\n",
    "cv2.imshow(\"image\",img)\n",
    "\n",
    "cv2.waitKey()\n",
    "cv2.destroyAllWindows()"
   ]
  },
  {
   "cell_type": "code",
   "execution_count": null,
   "metadata": {},
   "outputs": [],
   "source": []
  },
  {
   "cell_type": "code",
   "execution_count": null,
   "metadata": {},
   "outputs": [],
   "source": []
  }
 ],
 "metadata": {
  "kernelspec": {
   "display_name": "Python 3",
   "language": "python",
   "name": "python3"
  },
  "language_info": {
   "codemirror_mode": {
    "name": "ipython",
    "version": 3
   },
   "file_extension": ".py",
   "mimetype": "text/x-python",
   "name": "python",
   "nbconvert_exporter": "python",
   "pygments_lexer": "ipython3",
   "version": "3.7.3"
  }
 },
 "nbformat": 4,
 "nbformat_minor": 2
}
