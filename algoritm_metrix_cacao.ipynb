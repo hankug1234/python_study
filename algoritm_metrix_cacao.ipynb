{
  "nbformat": 4,
  "nbformat_minor": 0,
  "metadata": {
    "colab": {
      "provenance": [],
      "collapsed_sections": []
    },
    "kernelspec": {
      "name": "python3",
      "display_name": "Python 3"
    },
    "language_info": {
      "name": "python"
    }
  },
  "cells": [
    {
      "cell_type": "code",
      "execution_count": null,
      "metadata": {
        "id": "7yvimgLodrZm"
      },
      "outputs": [],
      "source": [
        "from collections import deque\n",
        "\n",
        "def convert_original(metrix):\n",
        "    result = []\n",
        "    if len(metrix) > 2:\n",
        "        rn = len(metrix)-2\n",
        "        for i in range(rn):\n",
        "            left = metrix[0].popleft()\n",
        "            middle = metrix[1].popleft()\n",
        "            right = metrix[-1].popleft()\n",
        "            result.append([left,*list(middle),right])\n",
        "    else:\n",
        "        rn = len(metrix[0])\n",
        "        for i in range(rn):\n",
        "            result.append([metrix[0].popleft(),metrix[-1].popleft()])\n",
        "    return result\n",
        "\n",
        "def shift_row(metrix):\n",
        "    left = metrix[0].pop()\n",
        "    right = metrix[-1].pop()\n",
        "    if len(metrix) >2:\n",
        "        middle = metrix[1].pop()\n",
        "        metrix[1].appendleft(middle)\n",
        "        \n",
        "    metrix[0].appendleft(left)\n",
        "    metrix[-1].appendleft(right)\n",
        "\n",
        "    \n",
        "def make_new_metrix(metrix):\n",
        "    result = []\n",
        "    middle = deque()\n",
        "    left_side = deque()\n",
        "    right_side = deque()\n",
        "    for row in metrix:\n",
        "        left_side.append(row.pop(0))\n",
        "        right_side.append(row.pop(-1))\n",
        "        if len(row) != 0:\n",
        "            middle.append(deque(row))\n",
        "            result.append(middle)\n",
        "    result.insert(0,left_side)\n",
        "    result.append(right_side)\n",
        "    return result\n",
        "\n",
        "\n",
        "def rotation(metrix):\n",
        "    top = deque()\n",
        "    bottom = deque()\n",
        "    if len(metrix) > 2:\n",
        "        top = metrix[1].popleft()\n",
        "        bottom = metrix[1].pop()   \n",
        "    left = metrix[0]\n",
        "    right = metrix[-1]\n",
        "    \n",
        "    top.appendleft(left.popleft())\n",
        "    right.appendleft(top.pop())\n",
        "    bottom.append(right.pop())\n",
        "    left.append(bottom.popleft())\n",
        "    if len(metrix) > 2:\n",
        "        metrix[1].appendleft(top)\n",
        "        metrix[1].append(bottom)\n",
        "        \n",
        "def solution(rc, operations):\n",
        "    rc = make_new_metrix(rc)\n",
        "    for oper in operations:\n",
        "        if oper == \"Rotate\":\n",
        "            rotation(rc)\n",
        "        if oper == \"ShiftRow\":\n",
        "            shift_row(rc)\n",
        "    answer = convert_original(rc)\n",
        "    return answer"
      ]
    }
  ]
}