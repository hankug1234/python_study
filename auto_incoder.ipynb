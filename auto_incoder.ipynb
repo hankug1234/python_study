{
  "nbformat": 4,
  "nbformat_minor": 0,
  "metadata": {
    "colab": {
      "provenance": []
    },
    "kernelspec": {
      "name": "python3",
      "display_name": "Python 3"
    },
    "language_info": {
      "name": "python"
    }
  },
  "cells": [
    {
      "cell_type": "code",
      "execution_count": null,
      "metadata": {
        "id": "Zc4giMO2iTWd"
      },
      "outputs": [],
      "source": [
        "from tensorflow.keras.layers import Input,Dense, Lambda\n",
        "from tensorflow.keras.models import Model\n",
        "from tensorflow.keras import backend as K\n",
        "from tensorflow.keras import metrics\n",
        "from tensorflow.keras.datasets import mnist\n",
        "import numpy as np"
      ]
    },
    {
      "cell_type": "code",
      "source": [
        "batch_size = 100\n",
        "original_dim = 784\n",
        "latent_dim = 2\n",
        "intermediate_dim = 256\n",
        "epochs = 50\n",
        "epsilon_std = 1.0"
      ],
      "metadata": {
        "id": "mSXHYtSoi94y"
      },
      "execution_count": null,
      "outputs": []
    },
    {
      "cell_type": "code",
      "source": [
        "def sampling(args: tuple):\n",
        "  z_mean, z_log_var = args\n",
        "  epsilon = K.random_normal(shape=(K.shape(z_mean)[0], latent_dim),mean=0.,stddev=epsilon_std)\n",
        "  return z_mean+K.exp(z_log_var/2)*epsilon\n",
        "\n",
        "x = Input(shape=(original_dim,),name = \"input\")\n",
        "h = Dense(intermediate_dim, activation=\"relu\",name=\"encoding\")(x)\n",
        "z_mean = Dense(latent_dim, name=\"mean\")(h)\n",
        "z_log_var = Dense(latent_dim, name=\"log-variance\")(h)\n",
        "z = Lambda(sampling, output_shape=(latent_dim,))([z_mean,z_log_var])\n",
        "encoder = Model(x,[z_mean,z_log_var,z], name=\"encoder\")\n"
      ],
      "metadata": {
        "id": "cGYhzJuZjVDn"
      },
      "execution_count": null,
      "outputs": []
    },
    {
      "cell_type": "code",
      "source": [
        "input_decoder = Input(shape=(latent_dim,), name=\"decoder_input\")\n",
        "decoder_h = Dense(intermediate_dim, activation=\"relu\", name=\"decoder_h\")(input_decoder)\n",
        "x_decoded = Dense(original_dim, activation=\"sigmoid\", name=\"flat_decoded\")(decoder_h)\n",
        "decoder = Model(input_decoder,x_decoded,name=\"decoder\")\n"
      ],
      "metadata": {
        "id": "iy697q2p1S3b"
      },
      "execution_count": null,
      "outputs": []
    },
    {
      "cell_type": "code",
      "source": [
        "output_combined = decoder(encoder(x)[2])\n",
        "vae = Model(x,output_combined)\n",
        "vae.summary()"
      ],
      "metadata": {
        "colab": {
          "base_uri": "https://localhost:8080/"
        },
        "id": "qJZUspyHKWP-",
        "outputId": "c7fe07b9-5d8e-4b48-f252-819a71a72451"
      },
      "execution_count": null,
      "outputs": [
        {
          "output_type": "stream",
          "name": "stdout",
          "text": [
            "Model: \"model_2\"\n",
            "_________________________________________________________________\n",
            " Layer (type)                Output Shape              Param #   \n",
            "=================================================================\n",
            " input (InputLayer)          [(None, 784)]             0         \n",
            "                                                                 \n",
            " encoder (Functional)        [(None, 2),               201988    \n",
            "                              (None, 2),                         \n",
            "                              (None, 2)]                         \n",
            "                                                                 \n",
            " decoder (Functional)        (None, 784)               202256    \n",
            "                                                                 \n",
            "=================================================================\n",
            "Total params: 404,244\n",
            "Trainable params: 404,244\n",
            "Non-trainable params: 0\n",
            "_________________________________________________________________\n"
          ]
        }
      ]
    },
    {
      "cell_type": "code",
      "source": [
        "kl_loss = -0.5*K.sum(1+z_log_var - K.exp(z_log_var)-K.square(z_mean),axis=-1)\n",
        "vae.add_loss(K.mean(kl_loss)/784.)\n",
        "vae.compile(optimizer=\"rmsprop\",loss=\"binary_crossentropy\")"
      ],
      "metadata": {
        "id": "p-H2khzOMJGV"
      },
      "execution_count": null,
      "outputs": []
    },
    {
      "cell_type": "code",
      "source": [
        "(x_train,y_train), (x_test,y_test) = mnist.load_data()\n",
        "\n",
        "x_train = x_train.astype('float32')/255\n",
        "x_test = x_test.astype('float32')/255\n",
        "x_train = x_train.reshape((len(x_train),np.prod(x_train.shape[1:])))\n",
        "x_test = x_test.reshape((len(x_test),np.prod(x_test.shape[1:])))"
      ],
      "metadata": {
        "id": "YT7PJS83cBJ7"
      },
      "execution_count": null,
      "outputs": []
    },
    {
      "cell_type": "code",
      "source": [
        "vae.fit(x_train,x_train,shuffle=True,epochs=epochs,batch_size=batch_size)"
      ],
      "metadata": {
        "colab": {
          "base_uri": "https://localhost:8080/"
        },
        "id": "SBYNjgm_eucD",
        "outputId": "6556cada-2ea5-444c-e520-ecc74ed1942b"
      },
      "execution_count": null,
      "outputs": [
        {
          "output_type": "stream",
          "name": "stdout",
          "text": [
            "Epoch 1/50\n",
            "600/600 [==============================] - 10s 16ms/step - loss: 0.2447\n",
            "Epoch 2/50\n",
            "600/600 [==============================] - 9s 16ms/step - loss: 0.2167\n",
            "Epoch 3/50\n",
            "600/600 [==============================] - 10s 16ms/step - loss: 0.2110\n",
            "Epoch 4/50\n",
            "600/600 [==============================] - 9s 16ms/step - loss: 0.2075\n",
            "Epoch 5/50\n",
            "600/600 [==============================] - 9s 15ms/step - loss: 0.2051\n",
            "Epoch 6/50\n",
            "600/600 [==============================] - 9s 15ms/step - loss: 0.2032\n",
            "Epoch 7/50\n",
            "600/600 [==============================] - 9s 16ms/step - loss: 0.2016\n",
            "Epoch 8/50\n",
            "600/600 [==============================] - 10s 16ms/step - loss: 0.2003\n",
            "Epoch 9/50\n",
            "600/600 [==============================] - 9s 16ms/step - loss: 0.1993\n",
            "Epoch 10/50\n",
            "600/600 [==============================] - 9s 16ms/step - loss: 0.1984\n",
            "Epoch 11/50\n",
            "600/600 [==============================] - 9s 15ms/step - loss: 0.1978\n",
            "Epoch 12/50\n",
            "600/600 [==============================] - 9s 16ms/step - loss: 0.1972\n",
            "Epoch 13/50\n",
            "600/600 [==============================] - 9s 15ms/step - loss: 0.1966\n",
            "Epoch 14/50\n",
            "600/600 [==============================] - 9s 15ms/step - loss: 0.1961\n",
            "Epoch 15/50\n",
            "600/600 [==============================] - 9s 15ms/step - loss: 0.1958\n",
            "Epoch 16/50\n",
            "600/600 [==============================] - 9s 15ms/step - loss: 0.1953\n",
            "Epoch 17/50\n",
            "600/600 [==============================] - 9s 15ms/step - loss: 0.1950\n",
            "Epoch 18/50\n",
            "600/600 [==============================] - 9s 15ms/step - loss: 0.1946\n",
            "Epoch 19/50\n",
            "600/600 [==============================] - 9s 15ms/step - loss: 0.1943\n",
            "Epoch 20/50\n",
            "600/600 [==============================] - 10s 16ms/step - loss: 0.1940\n",
            "Epoch 21/50\n",
            "600/600 [==============================] - 9s 16ms/step - loss: 0.1937\n",
            "Epoch 22/50\n",
            "600/600 [==============================] - 9s 15ms/step - loss: 0.1934\n",
            "Epoch 23/50\n",
            "600/600 [==============================] - 9s 15ms/step - loss: 0.1931\n",
            "Epoch 24/50\n",
            "600/600 [==============================] - 9s 16ms/step - loss: 0.1929\n",
            "Epoch 25/50\n",
            "600/600 [==============================] - 9s 15ms/step - loss: 0.1927\n",
            "Epoch 26/50\n",
            "600/600 [==============================] - 10s 17ms/step - loss: 0.1924\n",
            "Epoch 27/50\n",
            "600/600 [==============================] - 9s 16ms/step - loss: 0.1922\n",
            "Epoch 28/50\n",
            "600/600 [==============================] - 9s 16ms/step - loss: 0.1919\n",
            "Epoch 29/50\n",
            "600/600 [==============================] - 9s 15ms/step - loss: 0.1917\n",
            "Epoch 30/50\n",
            "600/600 [==============================] - 9s 15ms/step - loss: 0.1915\n",
            "Epoch 31/50\n",
            "600/600 [==============================] - 9s 15ms/step - loss: 0.1913\n",
            "Epoch 32/50\n",
            "600/600 [==============================] - 9s 15ms/step - loss: 0.1911\n",
            "Epoch 33/50\n",
            "600/600 [==============================] - 9s 15ms/step - loss: 0.1910\n",
            "Epoch 34/50\n",
            "600/600 [==============================] - 9s 15ms/step - loss: 0.1908\n",
            "Epoch 35/50\n",
            "600/600 [==============================] - 9s 15ms/step - loss: 0.1906\n",
            "Epoch 36/50\n",
            "600/600 [==============================] - 9s 16ms/step - loss: 0.1904\n",
            "Epoch 37/50\n",
            "600/600 [==============================] - 9s 15ms/step - loss: 0.1903\n",
            "Epoch 38/50\n",
            "600/600 [==============================] - 9s 16ms/step - loss: 0.1901\n",
            "Epoch 39/50\n",
            "600/600 [==============================] - 9s 15ms/step - loss: 0.1899\n",
            "Epoch 40/50\n",
            "600/600 [==============================] - 9s 15ms/step - loss: 0.1898\n",
            "Epoch 41/50\n",
            "600/600 [==============================] - 9s 15ms/step - loss: 0.1896\n",
            "Epoch 42/50\n",
            "600/600 [==============================] - 9s 15ms/step - loss: 0.1895\n",
            "Epoch 43/50\n",
            "600/600 [==============================] - 9s 15ms/step - loss: 0.1893\n",
            "Epoch 44/50\n",
            "600/600 [==============================] - 9s 15ms/step - loss: 0.1892\n",
            "Epoch 45/50\n",
            "600/600 [==============================] - 9s 15ms/step - loss: 0.1891\n",
            "Epoch 46/50\n",
            "600/600 [==============================] - 9s 15ms/step - loss: 0.1889\n",
            "Epoch 47/50\n",
            "600/600 [==============================] - 9s 15ms/step - loss: 0.1888\n",
            "Epoch 48/50\n",
            "600/600 [==============================] - 9s 16ms/step - loss: 0.1887\n",
            "Epoch 49/50\n",
            "600/600 [==============================] - 9s 15ms/step - loss: 0.1886\n",
            "Epoch 50/50\n",
            "600/600 [==============================] - 10s 16ms/step - loss: 0.1884\n"
          ]
        },
        {
          "output_type": "execute_result",
          "data": {
            "text/plain": [
              "<keras.callbacks.History at 0x7feea4234c90>"
            ]
          },
          "metadata": {},
          "execution_count": 27
        }
      ]
    },
    {
      "cell_type": "code",
      "source": [],
      "metadata": {
        "id": "qXb-7wADfMV_"
      },
      "execution_count": null,
      "outputs": []
    }
  ]
}