{
 "cells": [
  {
   "cell_type": "code",
   "execution_count": 2,
   "metadata": {},
   "outputs": [
    {
     "name": "stdout",
     "output_type": "stream",
     "text": [
      "tall_mean:163.85 weight_mean:67.84\n",
      "\n",
      "['info.txt', 'info_max.txt']\n"
     ]
    }
   ],
   "source": [
    "import os\n",
    "import random\n",
    "def make_name():\n",
    "    name_seed = \"abcdefghijklmnopqrstuvwxyz\"\n",
    "    name = \"\"\n",
    "    for i in range(0,3):\n",
    "        name+=random.choice(name_seed)\n",
    "    return name \n",
    "\n",
    "def make_weight():\n",
    "    return random.randrange(40,100)\n",
    "def make_tall():\n",
    "    return random.randrange(140,200)\n",
    "def make_hund_people_info(dir_path=\"./hw_dir\"):\n",
    "    os.mkdir(dir_path)\n",
    "    with open(\"./hw_dir/info.txt\",'w') as file:\n",
    "        for i in range(0,100):\n",
    "            file.write(f\"{make_name()} ,{make_weight()} ,{make_tall()}\\n\")\n",
    "            \n",
    "def read_people_info(path=\"./hw_dir/info.txt\"):\n",
    "    result = []\n",
    "    total_tall = 0;\n",
    "    total_weight = 0;\n",
    "    with open(path,'r') as file:\n",
    "        for info in file:\n",
    "            info = info.split(\" ,\")\n",
    "            info[1] = float(info[1])\n",
    "            info[2] = float(info[2])\n",
    "            total_tall += info[2]\n",
    "            total_weight += info[1]\n",
    "            result.append(info)\n",
    "        tall_mean = total_tall/float(len(result))\n",
    "        weight_mean = total_weight/float(len(result))\n",
    "        print(\"tall_mean:{:.2f} weight_mean:{:.2f}\".format(tall_mean,weight_mean))\n",
    "        print()\n",
    "        max_tall = max(result,key=lambda a:a[2])\n",
    "        out = open(\"./hw_dir/info_max.txt\",'w')\n",
    "        max_tall[1] = str(max_tall[1])\n",
    "        max_tall[2] = str(max_tall[2])\n",
    "        out.write(\" ,\".join(max_tall)+\"\\n\")\n",
    "        out.close()\n",
    "        print(os.listdir(\"./hw_dir\"))\n",
    "            \n",
    "make_hund_people_info()\n",
    "read_people_info()"
   ]
  }
 ],
 "metadata": {
  "kernelspec": {
   "display_name": "Python 3",
   "language": "python",
   "name": "python3"
  },
  "language_info": {
   "codemirror_mode": {
    "name": "ipython",
    "version": 3
   },
   "file_extension": ".py",
   "mimetype": "text/x-python",
   "name": "python",
   "nbconvert_exporter": "python",
   "pygments_lexer": "ipython3",
   "version": "3.7.3"
  }
 },
 "nbformat": 4,
 "nbformat_minor": 2
}
