{
 "cells": [
  {
   "cell_type": "code",
   "execution_count": 1,
   "metadata": {},
   "outputs": [],
   "source": [
    "import cv2\n",
    "import numpy as np\n",
    "import mediapipe as mp"
   ]
  },
  {
   "cell_type": "code",
   "execution_count": 3,
   "metadata": {},
   "outputs": [],
   "source": [
    "mp_drawing = mp.solutions.drawing_utils\n",
    "mp_drawing_style = mp.solutions.drawing_styles\n",
    "mp_hands = mp.solutions.hands"
   ]
  },
  {
   "cell_type": "code",
   "execution_count": 10,
   "metadata": {},
   "outputs": [],
   "source": [
    "hands = mp_hands.Hands(static_image_mode=True, max_num_hands=2, min_detection_confidence=0.5)\n",
    "files = ['./fig/hands.jpg']\n",
    "\n",
    "image = cv2.imread(files[0],1)\n",
    "\n",
    "annotated_image = image.copy()\n",
    "\n",
    "image_bgr = cv2.cvtColor(image,cv2.COLOR_BGR2RGB)\n",
    "results = hands.process(image_bgr)"
   ]
  },
  {
   "cell_type": "code",
   "execution_count": 11,
   "metadata": {},
   "outputs": [
    {
     "name": "stdout",
     "output_type": "stream",
     "text": [
      "Handness [classification {\n",
      "  index: 0\n",
      "  score: 0.9588013887405396\n",
      "  label: \"Left\"\n",
      "}\n",
      ", classification {\n",
      "  index: 0\n",
      "  score: 0.9866190552711487\n",
      "  label: \"Left\"\n",
      "}\n",
      "]\n"
     ]
    }
   ],
   "source": [
    "print(\"Handness\",results.multi_handedness)"
   ]
  },
  {
   "cell_type": "code",
   "execution_count": 14,
   "metadata": {},
   "outputs": [
    {
     "name": "stdout",
     "output_type": "stream",
     "text": [
      "landmark [x: 0.7752730846405029\n",
      "y: 0.8386694192886353\n",
      "z: 6.89597754899296e-07\n",
      ", x: 0.6773759722709656\n",
      "y: 0.7702955007553101\n",
      "z: -0.032062843441963196\n",
      ", x: 0.6180521249771118\n",
      "y: 0.669080376625061\n",
      "z: -0.060193825513124466\n",
      ", x: 0.5744355916976929\n",
      "y: 0.5687310695648193\n",
      "z: -0.0833912342786789\n",
      ", x: 0.5245738625526428\n",
      "y: 0.5048589110374451\n",
      "z: -0.10680745542049408\n",
      ", x: 0.7111515998840332\n",
      "y: 0.5100870132446289\n",
      "z: -0.06504121422767639\n",
      ", x: 0.6994245648384094\n",
      "y: 0.33314085006713867\n",
      "z: -0.09830835461616516\n",
      ", x: 0.6966596841812134\n",
      "y: 0.2244592010974884\n",
      "z: -0.11937735229730606\n",
      ", x: 0.6984440684318542\n",
      "y: 0.1377856433391571\n",
      "z: -0.1316845417022705\n",
      ", x: 0.7760743498802185\n",
      "y: 0.506812334060669\n",
      "z: -0.0678107738494873\n",
      ", x: 0.7786092162132263\n",
      "y: 0.3145807981491089\n",
      "z: -0.09874282032251358\n",
      ", x: 0.7796454429626465\n",
      "y: 0.18758279085159302\n",
      "z: -0.1177980899810791\n",
      ", x: 0.7838351726531982\n",
      "y: 0.0894714891910553\n",
      "z: -0.13030298054218292\n",
      ", x: 0.8302642703056335\n",
      "y: 0.5235399007797241\n",
      "z: -0.07162781059741974\n",
      ", x: 0.8434114456176758\n",
      "y: 0.3517274856567383\n",
      "z: -0.09918706864118576\n",
      ", x: 0.849751353263855\n",
      "y: 0.2357081174850464\n",
      "z: -0.11522575467824936\n",
      ", x: 0.8548526763916016\n",
      "y: 0.14541283249855042\n",
      "z: -0.12441670894622803\n",
      ", x: 0.8753857612609863\n",
      "y: 0.5512511730194092\n",
      "z: -0.0768122524023056\n",
      ", x: 0.8966296911239624\n",
      "y: 0.4154992699623108\n",
      "z: -0.09871847927570343\n",
      ", x: 0.9072510600090027\n",
      "y: 0.3301340341567993\n",
      "z: -0.10603640973567963\n",
      ", x: 0.9150124192237854\n",
      "y: 0.25434261560440063\n",
      "z: -0.1089380756020546\n",
      "]\n",
      "landmark x: 0.7752730846405029\n",
      "y: 0.8386694192886353\n",
      "z: 6.89597754899296e-07\n",
      "\n"
     ]
    }
   ],
   "source": [
    "print('landmark',results.multi_hand_landmarks[0].landmark)\n",
    "print('landmark',results.multi_hand_landmarks[0].landmark[0])"
   ]
  },
  {
   "cell_type": "code",
   "execution_count": 22,
   "metadata": {},
   "outputs": [],
   "source": [
    " mp_drawing.draw_landmarks(\n",
    "            annotated_image,\n",
    "            results.multi_hand_landmarks[0],\n",
    "            mp_hands.HAND_CONNECTIONS,\n",
    "            mp_drawing_style.get_default_hand_landmarks_style(),\n",
    "            mp_drawing_style.get_default_hand_connections_style())"
   ]
  },
  {
   "cell_type": "code",
   "execution_count": 23,
   "metadata": {},
   "outputs": [],
   "source": [
    "cv2.imshow('image',annotated_image)\n",
    "cv2.waitKey()\n",
    "cv2.destroyAllWindows()"
   ]
  },
  {
   "cell_type": "code",
   "execution_count": null,
   "metadata": {},
   "outputs": [],
   "source": []
  }
 ],
 "metadata": {
  "kernelspec": {
   "display_name": "Python 3",
   "language": "python",
   "name": "python3"
  },
  "language_info": {
   "codemirror_mode": {
    "name": "ipython",
    "version": 3
   },
   "file_extension": ".py",
   "mimetype": "text/x-python",
   "name": "python",
   "nbconvert_exporter": "python",
   "pygments_lexer": "ipython3",
   "version": "3.7.3"
  }
 },
 "nbformat": 4,
 "nbformat_minor": 2
}
