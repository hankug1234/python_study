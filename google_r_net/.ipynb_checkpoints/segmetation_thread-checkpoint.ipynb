{
 "cells": [
  {
   "cell_type": "code",
   "execution_count": null,
   "metadata": {},
   "outputs": [],
   "source": [
    "import numpy as np\n",
    "import cv2\n",
    "import sys\n",
    "from multiprocessing import Process, Queue\n",
    "from worker import work\n",
    "\n",
    "result = Queue()\n",
    "end = Queue()\n",
    "\n",
    "print(\"start\")\n",
    "th1 = Process(target=work, args=(result,end),daemon=True)\n",
    "th1.start()\n",
    "\n",
    "if end.qsize() > 0:\n",
    "    print(\"camera open fail\")\n",
    "    sys.exit()\n",
    "\n",
    "while True:\n",
    "    show = result.get()\n",
    "    cv2.imshow(\"window\",show)\n",
    "    print(result.qsize())\n",
    "    key = cv2.waitKey(30)\n",
    "    if key == 27:\n",
    "        break\n",
    "\n",
    "cap.release()\n",
    "cv2.destroyAllWindows()"
   ]
  },
  {
   "cell_type": "code",
   "execution_count": null,
   "metadata": {},
   "outputs": [],
   "source": []
  },
  {
   "cell_type": "code",
   "execution_count": null,
   "metadata": {},
   "outputs": [],
   "source": []
  }
 ],
 "metadata": {
  "kernelspec": {
   "display_name": "Python 3",
   "language": "python",
   "name": "python3"
  },
  "language_info": {
   "codemirror_mode": {
    "name": "ipython",
    "version": 3
   },
   "file_extension": ".py",
   "mimetype": "text/x-python",
   "name": "python",
   "nbconvert_exporter": "python",
   "pygments_lexer": "ipython3",
   "version": "3.7.3"
  }
 },
 "nbformat": 4,
 "nbformat_minor": 2
}
