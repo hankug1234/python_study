{
 "cells": [
  {
   "cell_type": "code",
   "execution_count": 21,
   "metadata": {},
   "outputs": [],
   "source": [
    "import numpy as np\n",
    "import sys\n",
    "import cv2"
   ]
  },
  {
   "cell_type": "code",
   "execution_count": 22,
   "metadata": {},
   "outputs": [
    {
     "name": "stdout",
     "output_type": "stream",
     "text": [
      "(1, 1, 200, 7)\n"
     ]
    }
   ],
   "source": [
    "model = \"./opencv_face_detector_uint8.pb\"\n",
    "config = \"./opencv_face_detector.pbtxt.txt\"\n",
    "image = \"./fig/face1.jpg\"\n",
    "\n",
    "face_net = cv2.dnn.readNet(model,config)\n",
    "img = cv2.imread(image)\n",
    "\n",
    "if face_net.empty():\n",
    "    print(\"empty\")\n",
    "    sys.exit()\n",
    "\n",
    "blob = cv2.dnn.blobFromImage(img,1,(300,300),(104,177,123),swapRB=False)\n",
    "\n",
    "face_net.setInput(blob)\n",
    "out = face_net.forward()\n",
    "\n",
    "print(out.shape)\n",
    "# 7 = 2x confidence bounding box(4)"
   ]
  },
  {
   "cell_type": "code",
   "execution_count": 23,
   "metadata": {},
   "outputs": [],
   "source": [
    "detect = out[0,0,:,:]#상대 이미지 \n",
    "h,w = img.shape[:2]"
   ]
  },
  {
   "cell_type": "code",
   "execution_count": 24,
   "metadata": {},
   "outputs": [],
   "source": [
    "for i in range(200):\n",
    "    confidence = detect[i][2]\n",
    "    \n",
    "    if confidence > 0.5:\n",
    "        x1 = int(detect[i][3]*w)\n",
    "        y1 = int(detect[i][4]*h)\n",
    "        \n",
    "        x2 = int(detect[i][5]*w)\n",
    "        y2 = int(detect[i][6]*h)\n",
    "        \n",
    "        cv2.rectangle(img,(x1,y1),(x2,y2),(0,0,255),2)\n",
    "        text = f'face:{confidence*100}%'\n",
    "        cv2.putText(img,text,(x1,y1-2),cv2.FONT_HERSHEY_SCRIPT_SIMPLEX,0.8,(0,0,255),1,cv2.LINE_AA)\n",
    "        \n",
    "cv2.imshow(\"face\",img)\n",
    "cv2.waitKey()\n",
    "cv2.destroyAllWindows()"
   ]
  },
  {
   "cell_type": "code",
   "execution_count": null,
   "metadata": {},
   "outputs": [],
   "source": []
  },
  {
   "cell_type": "code",
   "execution_count": 25,
   "metadata": {},
   "outputs": [
    {
     "name": "stdout",
     "output_type": "stream",
     "text": [
      "fail\n"
     ]
    },
    {
     "ename": "SystemExit",
     "evalue": "",
     "output_type": "error",
     "traceback": [
      "An exception has occurred, use %tb to see the full traceback.\n",
      "\u001b[1;31mSystemExit\u001b[0m\n"
     ]
    }
   ],
   "source": [
    "cap = cv2.VideoCapture(0)\n",
    "    \n",
    "if cap.isOpened():\n",
    "    print(\"fail\")\n",
    "    sys.exit()\n",
    "    \n",
    "while True:\n",
    "    frame, ret = cap.read()\n",
    "    if ret:\n",
    "        print(\"frame get fail\")\n",
    "        sys.exit()\n",
    "    blob = cv2.dnn.blobFromImage(frame,1,(300,300),(104,177,123),swapRB=False)\n",
    "    face_net.setInput(blob)\n",
    "    out = face_net.forward()\n",
    "    \n",
    "    detect = out[0,0,:,:]#상대 이미지 \n",
    "    h,w = img.shape[:2]\n",
    "    \n",
    "    for i in range(200):\n",
    "        confidence = detect[i][2]\n",
    "    \n",
    "        if confidence > 0.5:\n",
    "            x1 = int(detect[i][3]*w)\n",
    "            y1 = int(detect[i][4]*h)\n",
    "        \n",
    "            x2 = int(detect[i][5]*w)\n",
    "            y2 = int(detect[i][6]*h)\n",
    "        \n",
    "            cv2.rectangle(frame,(x1,y1),(x2,y2),(0,0,255),2)\n",
    "            text = f'face:{confidence*100}%'\n",
    "            cv2.putText(frame,text,(x1,y1-2),cv2.FONT_HERSHEY_SCRIPT_SIMPLEX,0.8,(0,0,255),1,cv2.LINE_AA)\n",
    "    cv2.imshow(\"face_detect\",frame)\n",
    "    key = cv2.waitKey(30)\n",
    "    if key == 27:\n",
    "        break\n",
    "        \n",
    "cap.release()        \n",
    "cv2.destroyAllWindows()        \n",
    "        "
   ]
  },
  {
   "cell_type": "code",
   "execution_count": 31,
   "metadata": {},
   "outputs": [],
   "source": [
    "cap = cv2.VideoCapture(0)\n",
    "    \n",
    "if cap.isOpened() == False:\n",
    "    print(\"fail\")\n",
    "    sys.exit()\n",
    "    \n",
    "while True:\n",
    "    ret, frame = cap.read()\n",
    "    if ret is False:\n",
    "        print(\"frame get fail\")\n",
    "        sys.exit()\n",
    "    blob = cv2.dnn.blobFromImage(frame,1,(300,300),(104,177,123),swapRB=False)\n",
    "    face_net.setInput(blob)\n",
    "    out = face_net.forward()\n",
    "    \n",
    "    detect = out[0,0,:,:]#상대 이미지 \n",
    "    h,w = frame.shape[:2]\n",
    "    \n",
    "    for i in range(200):\n",
    "        confidence = detect[i][2]\n",
    "    \n",
    "        if confidence > 0.5:\n",
    "            x1 = int(detect[i][3]*w)\n",
    "            y1 = int(detect[i][4]*h)\n",
    "        \n",
    "            x2 = int(detect[i][5]*w)\n",
    "            y2 = int(detect[i][6]*h)\n",
    "        \n",
    "            cv2.rectangle(frame,(x1,y1),(x2,y2),(0,0,255),2)\n",
    "            text = f'face:{confidence*100}%'\n",
    "            cv2.putText(frame,text,(x1,y1-2),cv2.FONT_HERSHEY_SCRIPT_SIMPLEX,0.8,(0,0,255),1,cv2.LINE_AA)\n",
    "    cv2.imshow(\"face_detect\",frame)\n",
    "    key = cv2.waitKey(30)\n",
    "    if key == 27:\n",
    "        break\n",
    "        \n",
    "cap.release()        \n",
    "cv2.destroyAllWindows()        "
   ]
  },
  {
   "cell_type": "code",
   "execution_count": null,
   "metadata": {},
   "outputs": [],
   "source": []
  }
 ],
 "metadata": {
  "kernelspec": {
   "display_name": "Python 3",
   "language": "python",
   "name": "python3"
  },
  "language_info": {
   "codemirror_mode": {
    "name": "ipython",
    "version": 3
   },
   "file_extension": ".py",
   "mimetype": "text/x-python",
   "name": "python",
   "nbconvert_exporter": "python",
   "pygments_lexer": "ipython3",
   "version": "3.7.3"
  }
 },
 "nbformat": 4,
 "nbformat_minor": 2
}
