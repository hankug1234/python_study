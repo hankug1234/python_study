{
 "cells": [
  {
   "cell_type": "code",
   "execution_count": 17,
   "metadata": {},
   "outputs": [
    {
     "name": "stdout",
     "output_type": "stream",
     "text": [
      "width : 513, height : 513 fps:30\n"
     ]
    }
   ],
   "source": [
    "import numpy as np\n",
    "import cv2\n",
    "import sys\n",
    "\n",
    "inputSize = [513, 513];\n",
    "mean = [127.5, 127.5, 127.5];\n",
    "std = 0.007843;\n",
    "rb = False\n",
    "cls = 0\n",
    "path = './opt_deeplabv3_mnv2_513.pb'\n",
    "\n",
    "#std = 1/255.0\n",
    "#inputSize = (1024,512)\n",
    "#mean = 0\n",
    "#rb = True\n",
    "#cls = 13\n",
    "#path = './model-cityscapes.net'\n",
    "\n",
    "sample_img = cv2.imread('./fig/face1.jpg')\n",
    "back = cv2.imread(\"./fig/wall.jpg\")\n",
    "r_back = cv2.resize(back,inputSize,interpolation=cv2.INTER_LINEAR)\n",
    "deeplab_model = cv2.dnn.readNet(path)\n",
    "\n",
    "cap = cv2.VideoCapture(0)\n",
    "\n",
    "if not cap.isOpened() :\n",
    "    print('camera open fail')\n",
    "    sys.exit()\n",
    "\n",
    "    \n",
    "\n",
    "fps = int(cap.get(cv2.CAP_PROP_FPS))\n",
    "focc = cv2.VideoWriter_fourcc(*\"DIVX\")\n",
    "#fourcc video codec style default DIVX\n",
    "print(\"width : {}, height : {} fps:{}\".format(inputSize[0],inputSize[1],fps))\n",
    "\n",
    "out = cv2.VideoWriter('segmentation_outcom.avi',focc,fps,inputSize,True)    \n",
    "    \n",
    "while True:\n",
    "    rat,frame = cap.read()\n",
    "    if not rat:\n",
    "        print(\"frame read fail\")\n",
    "        sys.exit()\n",
    "        \n",
    "    copy_frame = frame.copy()\n",
    "    blob_img = cv2.dnn.blobFromImage(copy_frame, std, inputSize, mean, swapRB=rb, crop=False )\n",
    "    deeplab_model.setInput(blob_img)\n",
    "    deeplab_model_output = deeplab_model.forward()\n",
    "    class_map = np.argmax(deeplab_model_output[0],axis=0)\n",
    "    class_map = np.where(class_map == cls,1,0)\n",
    "    IMG_COLORS = np.array([0,255])\n",
    "    mask = IMG_COLORS[class_map].astype(np.uint8)\n",
    "    resize_frame = cv2.resize(copy_frame,inputSize,interpolation=cv2.INTER_LINEAR)\n",
    "    resize_back = r_back.copy()\n",
    "    cv2.copyTo(resize_frame,mask,resize_back)\n",
    "    \n",
    "    cv2.imshow(\"window\",resize_back)\n",
    "    out.write(resize_back)\n",
    "    key = cv2.waitKey(100)\n",
    "    if key == 27:\n",
    "        break\n",
    "\n",
    "out.release()\n",
    "cap.release()\n",
    "cv2.destroyAllWindows()\n"
   ]
  },
  {
   "cell_type": "code",
   "execution_count": 29,
   "metadata": {},
   "outputs": [],
   "source": []
  },
  {
   "cell_type": "code",
   "execution_count": null,
   "metadata": {},
   "outputs": [],
   "source": []
  }
 ],
 "metadata": {
  "kernelspec": {
   "display_name": "Python 3",
   "language": "python",
   "name": "python3"
  },
  "language_info": {
   "codemirror_mode": {
    "name": "ipython",
    "version": 3
   },
   "file_extension": ".py",
   "mimetype": "text/x-python",
   "name": "python",
   "nbconvert_exporter": "python",
   "pygments_lexer": "ipython3",
   "version": "3.7.3"
  }
 },
 "nbformat": 4,
 "nbformat_minor": 2
}
