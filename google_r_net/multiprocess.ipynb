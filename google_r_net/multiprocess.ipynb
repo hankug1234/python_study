{
 "cells": [
  {
   "cell_type": "code",
   "execution_count": null,
   "metadata": {},
   "outputs": [],
   "source": [
    "from multiprocessing import Process,Queue\n",
    "import cv2\n",
    "import time\n",
    "\n",
    "def work(result):\n",
    "    while True:\n",
    "        time.sleep(30)\n",
    "        result.put(\"hi\")\n",
    "        \n",
    "result = Queue()\n",
    "th = Process(target=work, args=(result,))\n",
    "th.start\n",
    "\n",
    "while True:\n",
    "    key = cv2.waitKey(30)\n",
    "    if key == 27:\n",
    "        break\n",
    "    print(result.qsize(),result.get())    "
   ]
  },
  {
   "cell_type": "code",
   "execution_count": null,
   "metadata": {},
   "outputs": [],
   "source": []
  }
 ],
 "metadata": {
  "kernelspec": {
   "display_name": "Python 3",
   "language": "python",
   "name": "python3"
  },
  "language_info": {
   "codemirror_mode": {
    "name": "ipython",
    "version": 3
   },
   "file_extension": ".py",
   "mimetype": "text/x-python",
   "name": "python",
   "nbconvert_exporter": "python",
   "pygments_lexer": "ipython3",
   "version": "3.7.3"
  }
 },
 "nbformat": 4,
 "nbformat_minor": 2
}
