{
 "cells": [
  {
   "cell_type": "code",
   "execution_count": 1,
   "metadata": {},
   "outputs": [],
   "source": [
    "import cv2\n",
    "import sys\n",
    "import numpy as np"
   ]
  },
  {
   "cell_type": "code",
   "execution_count": 4,
   "metadata": {},
   "outputs": [],
   "source": [
    "src = cv2.imread(\"./fig/puppy.bmp\")\n",
    "alpha_image = cv2.imread(\"./fig2/fig/imgbin_sunglasses_1.png\",cv2.IMREAD_UNCHANGED)\n",
    "\n",
    "glass_resize = cv2.resize(alpha_image,(300,150), interpolation = cv2.INTER_AREA)\n",
    "\n",
    "h,w = glass_resize.shape[:2]\n",
    "\n",
    "crop = src[120:120+h,220:220+w]\n",
    "\n",
    "mask = alpha_image[:,:,-1]\n",
    "glass = alpha_image[:,:,0:3]\n",
    "\n",
    "cv2.imshow(\"src\",src)\n",
    "cv2.imshow(\"alpha\",alpha_image)\n",
    "cv2.imshow(\"glass\",glass_resize)\n",
    "\n",
    "\n",
    "cv2.waitKey()\n",
    "cv2.destroyAllWindows()"
   ]
  },
  {
   "cell_type": "code",
   "execution_count": 121,
   "metadata": {},
   "outputs": [
    {
     "name": "stdout",
     "output_type": "stream",
     "text": [
      "(150, 300)\n",
      "(150, 300, 3)\n",
      "(150, 300)\n",
      "(150, 300, 3)\n"
     ]
    }
   ],
   "source": [
    "src = cv2.imread(\"./fig/puppy.bmp\")\n",
    "hat = cv2.imread(\"./fig2/fig/hat_alpha.png\",cv2.IMREAD_UNCHANGED)\n",
    "glasses = cv2.imread(\"./fig2/fig/imgbin_sunglasses_1.png\",cv2.IMREAD_UNCHANGED)\n",
    "\n",
    "hat = cv2.resize(hat,(300,150),interpolation=cv2.INTER_AREA)\n",
    "glasses = cv2.resize(glasses,(300,150),interpolation=cv2.INTER_AREA)\n",
    "\n",
    "\n",
    "mask_hat = hat[:,:,0:3]\n",
    "alpha_hat = mask_hat[:,:,-1]\n",
    "\n",
    "print(alpha_hat.shape)\n",
    "print(mask_hat.shape)\n",
    "print(alpha_glasses.shape)\n",
    "print(mask_glasses.shape)\n",
    "\n",
    "mask_hat[ mask_hat>=237] = 0\n",
    "mask_hat[ mask_hat != 0] = 255\n",
    "\n",
    "alpha_glasses = glasses[:,:,-1]\n",
    "mask_glasses = glasses[:,:,0:3]\n",
    "\n",
    "\n",
    "h, w = hat.shape[:2]\n",
    "\n",
    "src_hat = src[10:10+h,220:220+w]\n",
    "src_glasses = src[120:120+h,220:220+w]\n",
    "\n",
    "cv2.copyTo(mask_hat,alpha_hat,src_hat)\n",
    "cv2.copyTo(mask_glasses,alpha_glasses,src_glasses)\n",
    "cv2.imshow(\"g\",alpha_glasses)\n",
    "cv2.imshow(\"hat\",src)\n",
    "cv2.imshow(\"alpha_hat\",alpha_hat)\n",
    "cv2.imshow(\"mask_hat\",mask_hat)\n",
    "\n",
    "cv2.imwrite(\"./fig/puppy_hat.png\",src)\n",
    "\n",
    "cv2.waitKey()\n",
    "cv2.destroyAllWindows()\n",
    "\n",
    "\n",
    "\n",
    "\n",
    "\n"
   ]
  },
  {
   "cell_type": "code",
   "execution_count": 44,
   "metadata": {},
   "outputs": [
    {
     "data": {
      "text/plain": [
       "array([[255, 255, 255, ..., 255, 255, 255],\n",
       "       [255, 255, 255, ..., 255, 255, 255],\n",
       "       [255, 255, 255, ..., 255, 255, 255],\n",
       "       ...,\n",
       "       [255, 255, 255, ..., 255, 255, 255],\n",
       "       [255, 255, 255, ..., 255, 255, 255],\n",
       "       [255, 255, 255, ..., 255, 255, 255]], dtype=uint8)"
      ]
     },
     "execution_count": 44,
     "metadata": {},
     "output_type": "execute_result"
    }
   ],
   "source": [
    "alpha_hat"
   ]
  },
  {
   "cell_type": "code",
   "execution_count": 45,
   "metadata": {},
   "outputs": [
    {
     "data": {
      "text/plain": [
       "array([[[254, 254, 254],\n",
       "        [254, 254, 254],\n",
       "        [254, 254, 254],\n",
       "        ...,\n",
       "        [237, 237, 237],\n",
       "        [237, 237, 237],\n",
       "        [237, 237, 237]],\n",
       "\n",
       "       [[254, 254, 254],\n",
       "        [254, 254, 254],\n",
       "        [254, 254, 254],\n",
       "        ...,\n",
       "        [237, 237, 237],\n",
       "        [237, 237, 237],\n",
       "        [237, 237, 237]],\n",
       "\n",
       "       [[254, 254, 254],\n",
       "        [254, 254, 254],\n",
       "        [254, 254, 254],\n",
       "        ...,\n",
       "        [237, 237, 237],\n",
       "        [237, 237, 237],\n",
       "        [237, 237, 237]],\n",
       "\n",
       "       ...,\n",
       "\n",
       "       [[254, 254, 254],\n",
       "        [254, 254, 254],\n",
       "        [254, 254, 254],\n",
       "        ...,\n",
       "        [237, 237, 237],\n",
       "        [237, 237, 237],\n",
       "        [237, 237, 237]],\n",
       "\n",
       "       [[254, 254, 254],\n",
       "        [254, 254, 254],\n",
       "        [254, 254, 254],\n",
       "        ...,\n",
       "        [237, 237, 237],\n",
       "        [237, 237, 237],\n",
       "        [237, 237, 237]],\n",
       "\n",
       "       [[254, 254, 254],\n",
       "        [254, 254, 254],\n",
       "        [254, 254, 254],\n",
       "        ...,\n",
       "        [237, 237, 237],\n",
       "        [237, 237, 237],\n",
       "        [237, 237, 237]]], dtype=uint8)"
      ]
     },
     "execution_count": 45,
     "metadata": {},
     "output_type": "execute_result"
    }
   ],
   "source": [
    "mask_hat"
   ]
  },
  {
   "cell_type": "code",
   "execution_count": 82,
   "metadata": {},
   "outputs": [
    {
     "name": "stdout",
     "output_type": "stream",
     "text": [
      "[[[0 0 0]\n",
      "  [0 0 0]\n",
      "  [0 0 0]\n",
      "  ...\n",
      "  [0 0 0]\n",
      "  [0 0 0]\n",
      "  [0 0 0]]\n",
      "\n",
      " [[0 0 0]\n",
      "  [0 0 0]\n",
      "  [0 0 0]\n",
      "  ...\n",
      "  [0 0 0]\n",
      "  [0 0 0]\n",
      "  [0 0 0]]\n",
      "\n",
      " [[0 0 0]\n",
      "  [0 0 0]\n",
      "  [0 0 0]\n",
      "  ...\n",
      "  [0 0 0]\n",
      "  [0 0 0]\n",
      "  [0 0 0]]\n",
      "\n",
      " ...\n",
      "\n",
      " [[0 0 0]\n",
      "  [0 0 0]\n",
      "  [0 0 0]\n",
      "  ...\n",
      "  [0 0 0]\n",
      "  [0 0 0]\n",
      "  [0 0 0]]\n",
      "\n",
      " [[0 0 0]\n",
      "  [0 0 0]\n",
      "  [0 0 0]\n",
      "  ...\n",
      "  [0 0 0]\n",
      "  [0 0 0]\n",
      "  [0 0 0]]\n",
      "\n",
      " [[0 0 0]\n",
      "  [0 0 0]\n",
      "  [0 0 0]\n",
      "  ...\n",
      "  [0 0 0]\n",
      "  [0 0 0]\n",
      "  [0 0 0]]]\n"
     ]
    }
   ],
   "source": [
    "mask_hat[ mask_hat>=237] = 0\n",
    "mask_hat[ mask_hat != 0] = 255\n",
    "print(mask_hat)"
   ]
  },
  {
   "cell_type": "code",
   "execution_count": 83,
   "metadata": {},
   "outputs": [],
   "source": [
    "cv2.imshow(\"mask_hat\",mask_hat)\n",
    "cv2.waitKey()\n",
    "cv2.destroyAllWindows()"
   ]
  },
  {
   "cell_type": "code",
   "execution_count": 92,
   "metadata": {},
   "outputs": [],
   "source": [
    "img = np.ones((600,1200,3),np.uint8)*255\n",
    "\n",
    "cv2.line(img,(100,30), (400,30), (0,0,255),5,cv2.LINE_4)\n",
    "cv2.line(img,(400,30), (100,100), (0,0,255),5,cv2.LINE_4)\n",
    "cv2.arrowedLine(img,(450,30),(450,300),(0,0,255),5,cv2.LINE_4)\n",
    "cv2.rectangle(img,(100,400),(450,500),(0,0,255),5,cv2.LINE_4)\n",
    "cv2.rectangle(img,(120,420),(430,480),(0,255,0),-1,cv2.LINE_4)\n",
    "cv2.circle(img,(800,200),100,(0,0,255),-1,cv2.LINE_AA)#SMOOSING 해줌\n",
    "#cv2.ellips(img,center,axes,angle,startAngle,color)\n",
    "cv2.ellipse(img,(800,200),(50,100),20,0,270,(255,0,255),5,cv2.LINE_4)\n",
    "cv2.putText(img,\"Hello opencv!\",(900,400),cv2.FONT_ITALIC,0.8,(123,222,44),2,cv2.LINE_AA)\n",
    "\n",
    "\n",
    "cv2.imshow(\"img\",img)\n",
    "cv2.waitKey()\n",
    "cv2.destroyAllWindows()"
   ]
  },
  {
   "cell_type": "code",
   "execution_count": 116,
   "metadata": {},
   "outputs": [],
   "source": [
    "img = np.ones((600,1200,3),np.uint8)*255\n",
    "cv2.circle(img,(100,100),100,(0,0,0),3,cv2.LINE_AA)\n",
    "cv2.line(img,(230,10), (230,200), (0,0,0),5,cv2.LINE_4)\n",
    "cv2.line(img,(180,200), (180,300), (0,0,0),5,cv2.LINE_4)\n",
    "cv2.line(img,(180,300), (250,300), (0,0,0),5,cv2.LINE_4)\n",
    "cv2.line(img,(300,100), (400,10), (0,0,0),5,cv2.LINE_4)\n",
    "cv2.line(img,(400,10),(500,100), (0,0,0),5,cv2.LINE_4)\n",
    "cv2.line(img,(550,10), (550,200), (0,0,0),5,cv2.LINE_4)\n",
    "cv2.line(img,(550,50), (600,50), (0,0,0),5,cv2.LINE_4)\n",
    "cv2.rectangle(img,(400,200,150,100),(0,0,0),5,cv2.LINE_4)\n",
    "\n",
    "cv2.imwrite(\"./fig/insam.png\",img)\n",
    "\n",
    "cv2.imshow(\"img\",img)\n",
    "cv2.waitKey()\n",
    "cv2.destroyAllWindows()"
   ]
  },
  {
   "cell_type": "code",
   "execution_count": null,
   "metadata": {},
   "outputs": [],
   "source": []
  }
 ],
 "metadata": {
  "kernelspec": {
   "display_name": "Python 3",
   "language": "python",
   "name": "python3"
  },
  "language_info": {
   "codemirror_mode": {
    "name": "ipython",
    "version": 3
   },
   "file_extension": ".py",
   "mimetype": "text/x-python",
   "name": "python",
   "nbconvert_exporter": "python",
   "pygments_lexer": "ipython3",
   "version": "3.7.3"
  }
 },
 "nbformat": 4,
 "nbformat_minor": 2
}
