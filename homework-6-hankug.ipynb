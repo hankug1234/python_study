{
 "cells": [
  {
   "cell_type": "code",
   "execution_count": 18,
   "metadata": {},
   "outputs": [
    {
     "name": "stdout",
     "output_type": "stream",
     "text": [
      "('서울', 25, 31)\n",
      "('인천', 24, 29)\n",
      "('수원', 25, 31)\n",
      "('파주', 24, 31)\n",
      "('이천', 24, 32)\n",
      "('평택', 25, 31)\n",
      "('춘천', 24, 32)\n",
      "('원주', 25, 31)\n",
      "('강릉', 25, 29)\n",
      "('대전', 25, 32)\n",
      "('세종', 25, 32)\n",
      "('홍성', 25, 31)\n",
      "('청주', 26, 32)\n",
      "('충주', 25, 31)\n",
      "('영동', 24, 32)\n",
      "('광주', 26, 31)\n",
      "('목포', 27, 30)\n",
      "('여수', 26, 31)\n",
      "('순천', 26, 33)\n",
      "('광양', 26, 33)\n",
      "('나주', 25, 31)\n",
      "('전주', 26, 32)\n",
      "('군산', 26, 30)\n",
      "('정읍', 26, 31)\n",
      "('남원', 25, 32)\n",
      "('고창', 26, 30)\n",
      "('무주', 25, 31)\n",
      "('부산', 26, 32)\n",
      "('울산', 27, 32)\n",
      "('창원', 27, 33)\n",
      "('진주', 26, 33)\n",
      "('거창', 24, 32)\n",
      "('통영', 26, 31)\n",
      "('대구', 27, 34)\n",
      "('안동', 25, 32)\n",
      "('포항', 27, 32)\n",
      "('경주', 26, 32)\n",
      "('울진', 26, 28)\n",
      "('울릉도', 25, 27)\n",
      "('제주', 28, 34)\n",
      "('서귀포', 28, 31)\n",
      "41\n"
     ]
    }
   ],
   "source": [
    "from urllib import request\n",
    "from bs4 import BeautifulSoup\n",
    "\n",
    "result = request.urlopen(\"https://www.weather.go.kr/w/weather/forecast/mid-term.do\")\n",
    "result = result.read()\n",
    "soup = BeautifulSoup(result,'html.parser')\n",
    "tr = soup.find_all('tr')\n",
    "l = []\n",
    "for x in tr:\n",
    "    td = x.find_all('td')\n",
    "    city = x.find(class_='midterm-city')\n",
    "    for y in td:\n",
    "        tmn = y.find(class_='tmn')\n",
    "        tmx = y.find(class_='tmx')\n",
    "        if city and tmn and tmx:\n",
    "            l.append((city.get_text(),int(tmn.get_text()),int(tmx.get_text())))\n",
    "            break\n",
    "for k in l:\n",
    "    print(k)\n",
    "print(len(l))        \n",
    "    "
   ]
  },
  {
   "cell_type": "code",
   "execution_count": 32,
   "metadata": {},
   "outputs": [
    {
     "name": "stdout",
     "output_type": "stream",
     "text": [
      "이름 국어 영어 수학 입력>홍길동 100 100 100\n",
      "이름 국어 영어 수학 입력>김병철 90 90 90\n",
      "이름 국어 영어 수학 입력>김두한 80 80 80\n",
      "이름 국어 영어 수학 입력>q\n",
      "total_mean 국어:90.0 영어:90.0 수학:90.0\n"
     ]
    }
   ],
   "source": [
    "class student:\n",
    "    def __init__(self):\n",
    "        self.l = []\n",
    "    def get_info(self):\n",
    "        return (self.name,self.ko,self.en,self.math)\n",
    "    def trans(self,x):\n",
    "        if x.isdigit():\n",
    "            return float(x)\n",
    "        else:\n",
    "            return x\n",
    "    def input_please(self):\n",
    "        while True:\n",
    "            i = input(\"이름 국어 영어 수학 입력>\")\n",
    "            if i == 'q':\n",
    "                break\n",
    "            info = i.split(' ')\n",
    "            self.l.append(list(map(self.trans,info)))\n",
    "    def total_mean(self):\n",
    "        total = len(self.l)\n",
    "        ko = sum([x[1] for x in self.l])/total\n",
    "        en = sum([x[2] for x in self.l])/total\n",
    "        math = sum([x[3] for x in self.l])/total\n",
    "        print(f\"total_mean 국어:{ko} 영어:{en} 수학:{math}\")\n",
    "     \n",
    "\n",
    "s = student()\n",
    "s.input_please()\n",
    "s.total_mean()\n",
    "\n",
    "    "
   ]
  }
 ],
 "metadata": {
  "kernelspec": {
   "display_name": "Python 3",
   "language": "python",
   "name": "python3"
  },
  "language_info": {
   "codemirror_mode": {
    "name": "ipython",
    "version": 3
   },
   "file_extension": ".py",
   "mimetype": "text/x-python",
   "name": "python",
   "nbconvert_exporter": "python",
   "pygments_lexer": "ipython3",
   "version": "3.7.3"
  }
 },
 "nbformat": 4,
 "nbformat_minor": 2
}
