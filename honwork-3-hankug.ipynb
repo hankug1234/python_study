{
 "cells": [
  {
   "cell_type": "code",
   "execution_count": 2,
   "metadata": {},
   "outputs": [
    {
     "name": "stdout",
     "output_type": "stream",
     "text": [
      "{'name': '구름'}\n",
      "{}\n"
     ]
    }
   ],
   "source": [
    "#problem-1\n",
    "dit_a = {}\n",
    "dit_a['name'] = '구름'\n",
    "print(dit_a)\n",
    "del dit_a['name']\n",
    "print(dit_a)"
   ]
  },
  {
   "cell_type": "code",
   "execution_count": 6,
   "metadata": {},
   "outputs": [
    {
     "name": "stdout",
     "output_type": "stream",
     "text": [
      "# 우리 동네 애완 동물들\n",
      "구름 5살\n",
      "초코 3살\n",
      "아지 1살\n",
      "호랑이 1살\n"
     ]
    }
   ],
   "source": [
    "#problem-2\n",
    "pets = [{'name': '구름','age':5},\n",
    "        {'name': '초코','age':3},\n",
    "        {'name': '아지','age':1},\n",
    "        {'name': '호랑이','age':1},\n",
    "       ]\n",
    "print(\"# 우리 동네 애완 동물들\")\n",
    "for pet in pets:\n",
    "    print(f\"{pet['name']} {pet['age']}살\" )"
   ]
  },
  {
   "cell_type": "code",
   "execution_count": 11,
   "metadata": {},
   "outputs": [
    {
     "name": "stdout",
     "output_type": "stream",
     "text": [
      "{1: 3, 2: 4, 6: 1, 8: 2, 4: 3, 3: 3, 9: 3, 5: 2, 7: 2}\n"
     ]
    }
   ],
   "source": [
    "#problem-3\n",
    "numbers = [1,2,6,8,4,3,2,1,9,5,4,9,7,2,1,3,5,4,8,9,7,2,3]\n",
    "counter ={}\n",
    "for number in numbers:\n",
    "    if(number not in counter.keys()): \n",
    "        counter[number] = 1\n",
    "    else: \n",
    "        counter[number] +=1\n",
    "print(counter)        "
   ]
  },
  {
   "cell_type": "code",
   "execution_count": 20,
   "metadata": {},
   "outputs": [
    {
     "name": "stdout",
     "output_type": "stream",
     "text": [
      "name : 기사\n",
      "level : 12\n",
      "sword : 불꽃의 검\n",
      "armor : 풀플레이트\n",
      "skill : 베기\n",
      "skill : 세게 베기\n",
      "skill : 아주 세게 베기\n"
     ]
    }
   ],
   "source": [
    "#problem-4\n",
    "character = {\n",
    "    'name': '기사',\n",
    "    'level': 12,\n",
    "    'items':{'sword': '불꽃의 검', 'armor':'풀플레이트'},\n",
    "    'skill': ['베기','세게 베기','아주 세게 베기']\n",
    "}\n",
    "\n",
    "for key in character:\n",
    "    if(type(character[key]) is list):\n",
    "        for l in character[key]:\n",
    "            print(f\"{key} : {l}\")\n",
    "    elif(type(character[key]) is dict):\n",
    "        for d in character[key]:\n",
    "            print(f\"{d} : {character[key][d]}\")\n",
    "    else:\n",
    "        print(f\"{key} : {character[key]}\")\n",
    "        "
   ]
  },
  {
   "cell_type": "code",
   "execution_count": 22,
   "metadata": {},
   "outputs": [
    {
     "name": "stdout",
     "output_type": "stream",
     "text": [
      "{'name': '기사', 'hp': 200, 'mp': 30, 'level': 5}\n"
     ]
    }
   ],
   "source": [
    "#problem-5\n",
    "key_list = [\"name\", 'hp', \"mp\", \"level\"]\n",
    "value_list = [\"기사\",200,30,5]\n",
    "charater ={}\n",
    "for i in range(0,len(key_list)):\n",
    "    charater[key_list[i]] = value_list[i]\n",
    "print(charater)    "
   ]
  },
  {
   "cell_type": "code",
   "execution_count": 25,
   "metadata": {},
   "outputs": [
    {
     "name": "stdout",
     "output_type": "stream",
     "text": [
      "141를 더할 때 10000을 넘으면 그때의 값은 10011입니다.\n"
     ]
    }
   ],
   "source": [
    "#problem-6\n",
    "limit = 10000\n",
    "i = 1\n",
    "sum_value = 0\n",
    "while sum_value < limit :\n",
    "    sum_value += i\n",
    "    i+=1\n",
    "    \n",
    "print(f\"{i-1}를 더할 때 {limit}을 넘으면 그때의 값은 {sum_value}입니다.\")"
   ]
  },
  {
   "cell_type": "code",
   "execution_count": 27,
   "metadata": {},
   "outputs": [
    {
     "name": "stdout",
     "output_type": "stream",
     "text": [
      "최대가 되는 경우 50 * 50 = 2500\n"
     ]
    }
   ],
   "source": [
    "#problem-7\n",
    "\n",
    "max_value = 0\n",
    "a = 0\n",
    "b = 0\n",
    "for i in range(1,101):\n",
    "    j = 100 - i\n",
    "    k = i*j\n",
    "    if k > max_value :\n",
    "        max_value = k\n",
    "        a = i\n",
    "        b = j\n",
    "print(f\"최대가 되는 경우 {a} * {b} = {max_value}\")        \n",
    "     "
   ]
  },
  {
   "cell_type": "code",
   "execution_count": 33,
   "metadata": {},
   "outputs": [
    {
     "name": "stdout",
     "output_type": "stream",
     "text": [
      "2 : 10\n",
      "5 : 101\n",
      "6 : 110\n",
      "11 : 1011\n",
      "13 : 1101\n",
      "14 : 1110\n",
      "23 : 10111\n",
      "27 : 11011\n",
      "29 : 11101\n",
      "30 : 11110\n",
      "47 : 101111\n",
      "55 : 110111\n",
      "59 : 111011\n",
      "61 : 111101\n",
      "62 : 111110\n",
      "95 : 1011111\n",
      "합계: 539\n"
     ]
    }
   ],
   "source": [
    "#problem-8\n",
    "output = [x for x in range(1,101) if len((\"{:b}\".format(x)).split(\"0\")) == 2]\n",
    "for i in output:\n",
    "    print(\"{} : {}\".format(i,\"{:b}\".format(i)))\n",
    "print(\"합계:\",sum(output))    "
   ]
  },
  {
   "cell_type": "code",
   "execution_count": 36,
   "metadata": {},
   "outputs": [
    {
     "name": "stdout",
     "output_type": "stream",
     "text": [
      "{1: 4, 2: 3, 3: 3, 4: 2}\n"
     ]
    }
   ],
   "source": [
    "#problem-9\n",
    "l = [1,2,3,4,1,2,3,1,4,1,2,3]\n",
    "dic_l = {}\n",
    "for i in l:\n",
    "    if i in dic_l :\n",
    "        dic_l[i] += 1\n",
    "    else:\n",
    "        dic_l[i] = 1\n",
    "print(dic_l)       "
   ]
  },
  {
   "cell_type": "code",
   "execution_count": 3,
   "metadata": {},
   "outputs": [
    {
     "name": "stdout",
     "output_type": "stream",
     "text": [
      "c의 개수: 9\n",
      "t의 개수: 9\n",
      "a의 개수: 9\n",
      "g의 개수: 6\n"
     ]
    }
   ],
   "source": [
    "#problem-10\n",
    "dna = \"ctacaatgtcagtatacccattgcattagccgg\"\n",
    "dic_dna = {}\n",
    "for i in dna:\n",
    "    if i in dic_dna :\n",
    "        dic_dna[i] += 1\n",
    "    else:\n",
    "        dic_dna[i] = 1\n",
    "        \n",
    "for x in dic_dna :\n",
    "    print(f\"{x}의 개수: {dic_dna[x]}\")\n",
    "    "
   ]
  },
  {
   "cell_type": "code",
   "execution_count": 14,
   "metadata": {},
   "outputs": [
    {
     "name": "stdout",
     "output_type": "stream",
     "text": [
      "{'cta': 1, 'caa': 1, 'tgt': 1, 'cag': 1, 'tat': 1, 'acc': 1, 'cat': 1, 'tgc': 1, 'att': 1, 'agc': 1, 'cgg': 1}\n"
     ]
    }
   ],
   "source": [
    "#problem-11\n",
    "codon_list = []\n",
    "codon =\"\"\n",
    "codon_dic = {}\n",
    "for i,c in enumerate(dna):\n",
    "    codon += c\n",
    "    if(len(codon) == 3):\n",
    "        codon_list.append(codon)\n",
    "        codon = \"\"\n",
    "for co in codon_list:\n",
    "    if co in codon_dic:\n",
    "        codon_dic[co] +=1\n",
    "    else:\n",
    "        codon_dic[co] = 1\n",
    "print(codon_dic)        \n",
    "\n",
    "\n"
   ]
  },
  {
   "cell_type": "code",
   "execution_count": 16,
   "metadata": {},
   "outputs": [
    {
     "name": "stdout",
     "output_type": "stream",
     "text": [
      "[1, 2, 3, 4, 5, 6, 7, 8, 9]\n"
     ]
    }
   ],
   "source": [
    "#problem-12\n",
    "l = [1,2,[3,4],5,[6,7],[8,9]]\n",
    "flatt_list = []\n",
    "for x in l:\n",
    "    if type(x) is list:\n",
    "        for y in x:\n",
    "            flatt_list.append(y)\n",
    "    else:\n",
    "        flatt_list.append(x)\n",
    "print(flatt_list)    "
   ]
  }
 ],
 "metadata": {
  "kernelspec": {
   "display_name": "Python 3",
   "language": "python",
   "name": "python3"
  },
  "language_info": {
   "codemirror_mode": {
    "name": "ipython",
    "version": 3
   },
   "file_extension": ".py",
   "mimetype": "text/x-python",
   "name": "python",
   "nbconvert_exporter": "python",
   "pygments_lexer": "ipython3",
   "version": "3.7.3"
  }
 },
 "nbformat": 4,
 "nbformat_minor": 2
}
