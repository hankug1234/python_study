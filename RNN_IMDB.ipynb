{
  "nbformat": 4,
  "nbformat_minor": 0,
  "metadata": {
    "colab": {
      "provenance": [],
      "collapsed_sections": []
    },
    "kernelspec": {
      "name": "python3",
      "display_name": "Python 3"
    },
    "language_info": {
      "name": "python"
    },
    "accelerator": "TPU"
  },
  "cells": [
    {
      "cell_type": "code",
      "execution_count": 2,
      "metadata": {
        "id": "IZa8L_tna7vp"
      },
      "outputs": [],
      "source": [
        "import tensorflow as tf\n",
        "tf.keras.utils.set_random_seed(42)\n",
        "tf.config.experimental.enable_op_determinism()"
      ]
    },
    {
      "cell_type": "code",
      "source": [
        "from tensorflow.keras.datasets import imdb\n",
        "(train_input,train_target), (test_input, test_target) = imdb.load_data(num_words=500)"
      ],
      "metadata": {
        "colab": {
          "base_uri": "https://localhost:8080/"
        },
        "id": "77Dn4XVaqZul",
        "outputId": "b79efccf-2d6a-463b-f953-f4fa574a7666"
      },
      "execution_count": 3,
      "outputs": [
        {
          "output_type": "stream",
          "name": "stdout",
          "text": [
            "Downloading data from https://storage.googleapis.com/tensorflow/tf-keras-datasets/imdb.npz\n",
            "17465344/17464789 [==============================] - 0s 0us/step\n",
            "17473536/17464789 [==============================] - 0s 0us/step\n"
          ]
        }
      ]
    },
    {
      "cell_type": "code",
      "source": [
        "from sklearn.model_selection import train_test_split\n",
        "train_input, val_input, train_target, val_target = train_test_split(train_input, train_target, test_size=0.2,random_state=42)"
      ],
      "metadata": {
        "id": "XjKkaF1CqeAN"
      },
      "execution_count": 4,
      "outputs": []
    },
    {
      "cell_type": "code",
      "source": [
        "import numpy as np\n",
        "lengths = np.array([len(x) for x in train_input])"
      ],
      "metadata": {
        "id": "aJm1_tzuAMau"
      },
      "execution_count": 5,
      "outputs": []
    },
    {
      "cell_type": "code",
      "source": [
        "print(np.mean(lengths),np.median(lengths))"
      ],
      "metadata": {
        "colab": {
          "base_uri": "https://localhost:8080/"
        },
        "id": "R7uK-CZfAX5K",
        "outputId": "730a3c5f-fa8f-43fd-ed3b-a2b46931eff0"
      },
      "execution_count": 6,
      "outputs": [
        {
          "output_type": "stream",
          "name": "stdout",
          "text": [
            "239.00925 178.0\n"
          ]
        }
      ]
    },
    {
      "cell_type": "code",
      "source": [
        "import matplotlib.pyplot as plt\n",
        "plt.hist(lengths)\n",
        "plt.xlabel(\"lengths\")\n",
        "plt.ylabel(\"frequency\")\n",
        "plt.show()"
      ],
      "metadata": {
        "colab": {
          "base_uri": "https://localhost:8080/",
          "height": 279
        },
        "id": "sS8KVO9-AfgP",
        "outputId": "462435a5-9f5d-4a9f-c684-eb9746578d9f"
      },
      "execution_count": 7,
      "outputs": [
        {
          "output_type": "display_data",
          "data": {
            "text/plain": [
              "<Figure size 432x288 with 1 Axes>"
            ],
            "image/png": "[encoded data removed]"
          },
          "metadata": {
            "needs_background": "light"
          }
        }
      ]
    },
    {
      "cell_type": "code",
      "source": [
        "from tensorflow.keras.preprocessing.sequence import pad_sequences\n",
        "train_seq = pad_sequences(train_input, maxlen=100)\n",
        "print(train_seq.shape)"
      ],
      "metadata": {
        "colab": {
          "base_uri": "https://localhost:8080/"
        },
        "id": "J61wR6joAsYh",
        "outputId": "7ec65e29-4587-4a06-b1cb-c1875dba345a"
      },
      "execution_count": 8,
      "outputs": [
        {
          "output_type": "stream",
          "name": "stdout",
          "text": [
            "(20000, 100)\n"
          ]
        }
      ]
    },
    {
      "cell_type": "code",
      "source": [
        "val_seq = pad_sequences(val_input, maxlen=100)"
      ],
      "metadata": {
        "id": "jW6o6_BhBAbh"
      },
      "execution_count": 9,
      "outputs": []
    },
    {
      "cell_type": "code",
      "source": [
        "from tensorflow import keras\n",
        "model = keras.Sequential()\n",
        "model.add(keras.layers.SimpleRNN(8,input_shape=(100,500)))\n",
        "model.add(keras.layers.Dense(1,activation=\"sigmoid\"))"
      ],
      "metadata": {
        "id": "t0YghnLiBYeA"
      },
      "execution_count": 10,
      "outputs": []
    },
    {
      "cell_type": "code",
      "source": [
        "model.summary()"
      ],
      "metadata": {
        "colab": {
          "base_uri": "https://localhost:8080/"
        },
        "id": "cbHjRz0WFNSE",
        "outputId": "817d1c0e-f26f-48db-999a-a09da523a42e"
      },
      "execution_count": 11,
      "outputs": [
        {
          "output_type": "stream",
          "name": "stdout",
          "text": [
            "Model: \"sequential\"\n",
            "_________________________________________________________________\n",
            " Layer (type)                Output Shape              Param #   \n",
            "=================================================================\n",
            " simple_rnn (SimpleRNN)      (None, 8)                 4072      \n",
            "                                                                 \n",
            " dense (Dense)               (None, 1)                 9         \n",
            "                                                                 \n",
            "=================================================================\n",
            "Total params: 4,081\n",
            "Trainable params: 4,081\n",
            "Non-trainable params: 0\n",
            "_________________________________________________________________\n"
          ]
        }
      ]
    },
    {
      "cell_type": "code",
      "source": [
        "rmsprop = keras.optimizers.RMSprop(learning_rate=1e-4)\n",
        "model.compile(optimizer=rmsprop,loss=\"binary_crossentropy\",metrics=['accuracy'])\n",
        "\n",
        "train_oh = keras.utils.to_categorical(train_seq)\n",
        "val_oh = keras.utils.to_categorical(val_seq)\n",
        "\n",
        "cp = keras.callbacks.ModelCheckpoint('best-rnn-model.h5',save_best_only = True)\n",
        "es = keras.callbacks.EarlyStopping(patience=3, restore_best_weights=True)\n",
        "\n",
        "history = model.fit(train_oh, train_target, epochs=100, batch_size=64, validation_data=(val_oh, val_target), callbacks=[cp, es])"
      ],
      "metadata": {
        "colab": {
          "base_uri": "https://localhost:8080/"
        },
        "id": "Eq8YA1GDGObK",
        "outputId": "d3ad0ddc-75ac-4c6a-afa1-336cea614022"
      },
      "execution_count": 12,
      "outputs": [
        {
          "output_type": "stream",
          "name": "stdout",
          "text": [
            "Epoch 1/100\n",
            "313/313 [==============================] - 28s 84ms/step - loss: 0.6989 - accuracy: 0.5041 - val_loss: 0.6978 - val_accuracy: 0.5038\n",
            "Epoch 2/100\n",
            "313/313 [==============================] - 25s 79ms/step - loss: 0.6946 - accuracy: 0.5102 - val_loss: 0.6949 - val_accuracy: 0.5102\n",
            "Epoch 3/100\n",
            "313/313 [==============================] - 26s 82ms/step - loss: 0.6920 - accuracy: 0.5200 - val_loss: 0.6930 - val_accuracy: 0.5146\n",
            "Epoch 4/100\n",
            "313/313 [==============================] - 25s 78ms/step - loss: 0.6901 - accuracy: 0.5302 - val_loss: 0.6916 - val_accuracy: 0.5230\n",
            "Epoch 5/100\n",
            "313/313 [==============================] - 24s 78ms/step - loss: 0.6883 - accuracy: 0.5408 - val_loss: 0.6905 - val_accuracy: 0.5270\n",
            "Epoch 6/100\n",
            "313/313 [==============================] - 24s 77ms/step - loss: 0.6866 - accuracy: 0.5472 - val_loss: 0.6894 - val_accuracy: 0.5356\n",
            "Epoch 7/100\n",
            "313/313 [==============================] - 24s 77ms/step - loss: 0.6845 - accuracy: 0.5563 - val_loss: 0.6880 - val_accuracy: 0.5416\n",
            "Epoch 8/100\n",
            "313/313 [==============================] - 24s 78ms/step - loss: 0.6819 - accuracy: 0.5659 - val_loss: 0.6856 - val_accuracy: 0.5482\n",
            "Epoch 9/100\n",
            "313/313 [==============================] - 24s 77ms/step - loss: 0.6777 - accuracy: 0.5828 - val_loss: 0.6807 - val_accuracy: 0.5726\n",
            "Epoch 10/100\n",
            "313/313 [==============================] - 25s 79ms/step - loss: 0.6614 - accuracy: 0.6260 - val_loss: 0.6585 - val_accuracy: 0.6240\n",
            "Epoch 11/100\n",
            "313/313 [==============================] - 24s 77ms/step - loss: 0.6407 - accuracy: 0.6654 - val_loss: 0.6425 - val_accuracy: 0.6584\n",
            "Epoch 12/100\n",
            "313/313 [==============================] - 24s 77ms/step - loss: 0.6272 - accuracy: 0.6841 - val_loss: 0.6296 - val_accuracy: 0.6738\n",
            "Epoch 13/100\n",
            "313/313 [==============================] - 24s 77ms/step - loss: 0.6144 - accuracy: 0.6962 - val_loss: 0.6196 - val_accuracy: 0.6848\n",
            "Epoch 14/100\n",
            "313/313 [==============================] - 25s 79ms/step - loss: 0.6007 - accuracy: 0.7117 - val_loss: 0.6080 - val_accuracy: 0.6944\n",
            "Epoch 15/100\n",
            "313/313 [==============================] - 24s 76ms/step - loss: 0.5875 - accuracy: 0.7220 - val_loss: 0.5973 - val_accuracy: 0.7032\n",
            "Epoch 16/100\n",
            "313/313 [==============================] - 24s 76ms/step - loss: 0.5760 - accuracy: 0.7312 - val_loss: 0.5866 - val_accuracy: 0.7110\n",
            "Epoch 17/100\n",
            "313/313 [==============================] - 24s 76ms/step - loss: 0.5645 - accuracy: 0.7383 - val_loss: 0.5792 - val_accuracy: 0.7126\n",
            "Epoch 18/100\n",
            "313/313 [==============================] - 24s 77ms/step - loss: 0.5534 - accuracy: 0.7440 - val_loss: 0.5674 - val_accuracy: 0.7288\n",
            "Epoch 19/100\n",
            "313/313 [==============================] - 24s 78ms/step - loss: 0.5437 - accuracy: 0.7491 - val_loss: 0.5588 - val_accuracy: 0.7312\n",
            "Epoch 20/100\n",
            "313/313 [==============================] - 24s 76ms/step - loss: 0.5355 - accuracy: 0.7542 - val_loss: 0.5498 - val_accuracy: 0.7374\n",
            "Epoch 21/100\n",
            "313/313 [==============================] - 26s 83ms/step - loss: 0.5258 - accuracy: 0.7605 - val_loss: 0.5389 - val_accuracy: 0.7458\n",
            "Epoch 22/100\n",
            "313/313 [==============================] - 24s 78ms/step - loss: 0.5185 - accuracy: 0.7616 - val_loss: 0.5342 - val_accuracy: 0.7494\n",
            "Epoch 23/100\n",
            "313/313 [==============================] - 24s 76ms/step - loss: 0.5101 - accuracy: 0.7675 - val_loss: 0.5288 - val_accuracy: 0.7506\n",
            "Epoch 24/100\n",
            "313/313 [==============================] - 24s 76ms/step - loss: 0.5039 - accuracy: 0.7717 - val_loss: 0.5190 - val_accuracy: 0.7578\n",
            "Epoch 25/100\n",
            "313/313 [==============================] - 24s 77ms/step - loss: 0.4966 - accuracy: 0.7736 - val_loss: 0.5239 - val_accuracy: 0.7508\n",
            "Epoch 26/100\n",
            "313/313 [==============================] - 23s 75ms/step - loss: 0.4902 - accuracy: 0.7790 - val_loss: 0.5110 - val_accuracy: 0.7606\n",
            "Epoch 27/100\n",
            "313/313 [==============================] - 23s 72ms/step - loss: 0.4847 - accuracy: 0.7816 - val_loss: 0.5060 - val_accuracy: 0.7632\n",
            "Epoch 28/100\n",
            "313/313 [==============================] - 24s 76ms/step - loss: 0.4810 - accuracy: 0.7834 - val_loss: 0.5034 - val_accuracy: 0.7640\n",
            "Epoch 29/100\n",
            "313/313 [==============================] - 23s 74ms/step - loss: 0.4760 - accuracy: 0.7843 - val_loss: 0.5026 - val_accuracy: 0.7616\n",
            "Epoch 30/100\n",
            "313/313 [==============================] - 23s 74ms/step - loss: 0.4709 - accuracy: 0.7880 - val_loss: 0.4981 - val_accuracy: 0.7696\n",
            "Epoch 31/100\n",
            "313/313 [==============================] - 24s 76ms/step - loss: 0.4660 - accuracy: 0.7921 - val_loss: 0.4972 - val_accuracy: 0.7688\n",
            "Epoch 32/100\n",
            "313/313 [==============================] - 24s 76ms/step - loss: 0.4614 - accuracy: 0.7951 - val_loss: 0.4961 - val_accuracy: 0.7620\n",
            "Epoch 33/100\n",
            "313/313 [==============================] - 24s 75ms/step - loss: 0.4596 - accuracy: 0.7951 - val_loss: 0.4913 - val_accuracy: 0.7686\n",
            "Epoch 34/100\n",
            "313/313 [==============================] - 23s 73ms/step - loss: 0.4556 - accuracy: 0.7976 - val_loss: 0.4944 - val_accuracy: 0.7636\n",
            "Epoch 35/100\n",
            "313/313 [==============================] - 23s 75ms/step - loss: 0.4529 - accuracy: 0.7987 - val_loss: 0.4874 - val_accuracy: 0.7744\n",
            "Epoch 36/100\n",
            "313/313 [==============================] - 23s 73ms/step - loss: 0.4499 - accuracy: 0.8025 - val_loss: 0.4866 - val_accuracy: 0.7738\n",
            "Epoch 37/100\n",
            "313/313 [==============================] - 22s 70ms/step - loss: 0.4470 - accuracy: 0.8043 - val_loss: 0.4831 - val_accuracy: 0.7718\n",
            "Epoch 38/100\n",
            "313/313 [==============================] - 22s 71ms/step - loss: 0.4450 - accuracy: 0.8026 - val_loss: 0.4834 - val_accuracy: 0.7698\n",
            "Epoch 39/100\n",
            "313/313 [==============================] - 21s 69ms/step - loss: 0.4424 - accuracy: 0.8055 - val_loss: 0.4808 - val_accuracy: 0.7744\n",
            "Epoch 40/100\n",
            "313/313 [==============================] - 23s 72ms/step - loss: 0.4402 - accuracy: 0.8077 - val_loss: 0.4950 - val_accuracy: 0.7710\n",
            "Epoch 41/100\n",
            "313/313 [==============================] - 22s 71ms/step - loss: 0.4376 - accuracy: 0.8084 - val_loss: 0.4796 - val_accuracy: 0.7786\n",
            "Epoch 42/100\n",
            "313/313 [==============================] - 22s 70ms/step - loss: 0.4372 - accuracy: 0.8084 - val_loss: 0.4836 - val_accuracy: 0.7768\n",
            "Epoch 43/100\n",
            "313/313 [==============================] - 21s 66ms/step - loss: 0.4348 - accuracy: 0.8098 - val_loss: 0.4785 - val_accuracy: 0.7810\n",
            "Epoch 44/100\n",
            "313/313 [==============================] - 20s 65ms/step - loss: 0.4332 - accuracy: 0.8099 - val_loss: 0.4743 - val_accuracy: 0.7794\n",
            "Epoch 45/100\n",
            "313/313 [==============================] - 21s 66ms/step - loss: 0.4319 - accuracy: 0.8102 - val_loss: 0.4806 - val_accuracy: 0.7780\n",
            "Epoch 46/100\n",
            "313/313 [==============================] - 21s 67ms/step - loss: 0.4293 - accuracy: 0.8126 - val_loss: 0.4747 - val_accuracy: 0.7788\n",
            "Epoch 47/100\n",
            "313/313 [==============================] - 21s 67ms/step - loss: 0.4281 - accuracy: 0.8134 - val_loss: 0.4728 - val_accuracy: 0.7762\n",
            "Epoch 48/100\n",
            "313/313 [==============================] - 22s 69ms/step - loss: 0.4265 - accuracy: 0.8149 - val_loss: 0.4703 - val_accuracy: 0.7812\n",
            "Epoch 49/100\n",
            "313/313 [==============================] - 23s 73ms/step - loss: 0.4252 - accuracy: 0.8146 - val_loss: 0.4699 - val_accuracy: 0.7798\n",
            "Epoch 50/100\n",
            "313/313 [==============================] - 23s 73ms/step - loss: 0.4235 - accuracy: 0.8166 - val_loss: 0.4676 - val_accuracy: 0.7800\n",
            "Epoch 51/100\n",
            "313/313 [==============================] - 23s 73ms/step - loss: 0.4222 - accuracy: 0.8173 - val_loss: 0.4684 - val_accuracy: 0.7820\n",
            "Epoch 52/100\n",
            "313/313 [==============================] - 23s 73ms/step - loss: 0.4206 - accuracy: 0.8178 - val_loss: 0.4676 - val_accuracy: 0.7808\n",
            "Epoch 53/100\n",
            "313/313 [==============================] - 23s 73ms/step - loss: 0.4196 - accuracy: 0.8173 - val_loss: 0.4766 - val_accuracy: 0.7774\n",
            "Epoch 54/100\n",
            "313/313 [==============================] - 23s 72ms/step - loss: 0.4184 - accuracy: 0.8191 - val_loss: 0.4654 - val_accuracy: 0.7824\n",
            "Epoch 55/100\n",
            "313/313 [==============================] - 22s 71ms/step - loss: 0.4171 - accuracy: 0.8198 - val_loss: 0.4636 - val_accuracy: 0.7842\n",
            "Epoch 56/100\n",
            "313/313 [==============================] - 31s 98ms/step - loss: 0.4160 - accuracy: 0.8195 - val_loss: 0.4629 - val_accuracy: 0.7856\n",
            "Epoch 57/100\n",
            "313/313 [==============================] - 23s 75ms/step - loss: 0.4146 - accuracy: 0.8203 - val_loss: 0.4618 - val_accuracy: 0.7860\n",
            "Epoch 58/100\n",
            "313/313 [==============================] - 23s 75ms/step - loss: 0.4131 - accuracy: 0.8207 - val_loss: 0.4629 - val_accuracy: 0.7852\n",
            "Epoch 59/100\n",
            "313/313 [==============================] - 23s 75ms/step - loss: 0.4118 - accuracy: 0.8223 - val_loss: 0.4664 - val_accuracy: 0.7838\n",
            "Epoch 60/100\n",
            "313/313 [==============================] - 23s 73ms/step - loss: 0.4111 - accuracy: 0.8230 - val_loss: 0.4621 - val_accuracy: 0.7864\n"
          ]
        }
      ]
    },
    {
      "cell_type": "code",
      "source": [],
      "metadata": {
        "id": "9vV8LCDOIjRg"
      },
      "execution_count": 12,
      "outputs": []
    }
  ]
}